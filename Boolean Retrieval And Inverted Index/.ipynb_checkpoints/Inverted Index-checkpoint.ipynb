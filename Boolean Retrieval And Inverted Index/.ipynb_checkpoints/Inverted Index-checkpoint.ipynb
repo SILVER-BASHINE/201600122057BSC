{
 "cells": [
  {
   "cell_type": "markdown",
   "metadata": {},
   "source": [
    "# 倒排索引与布尔检索"
   ]
  },
  {
   "cell_type": "markdown",
   "metadata": {},
   "source": [
    "## 载入基本所需模块"
   ]
  },
  {
   "cell_type": "code",
   "execution_count": 1,
   "metadata": {
    "collapsed": true
   },
   "outputs": [],
   "source": [
    "\n",
    "import re\n",
    "import json"
   ]
  },
  {
   "cell_type": "markdown",
   "metadata": {},
   "source": [
    "### 将每条推特文本存入数组\n",
    "#### 这里的数组用于后来布尔检索时的对应的文本内容输出"
   ]
  },
  {
   "cell_type": "code",
   "execution_count": 2,
   "metadata": {},
   "outputs": [
    {
     "name": "stdout",
     "output_type": "stream",
     "text": [
      "['House may kill Arizona-style immigration bill, Rep. Rick Rand says: The House is unlikely to pass the \"Ari... http://tinyurl.com/4jrjcdz', \"Mourners recall Sarge Shriver's charity, idealism \\n    (AP): AP - R. Sargent Shriver was always an optimist, pio... http://bit.ly/gqMcdG\", 'Bass Fishing Techniques: 2 Fantastic Tips To Improve Your Casting Skills']\n"
     ]
    }
   ],
   "source": [
    "d=open('tweets.txt','r+')\n",
    "text1=[]\n",
    "texts1=d.readlines()\n",
    "for w in texts1:\n",
    "    text1.append(json.loads(w)['text'])\n",
    "print(text1[:3])"
   ]
  },
  {
   "cell_type": "markdown",
   "metadata": {},
   "source": [
    "\n",
    "## 建立倒排索引"
   ]
  },
  {
   "cell_type": "markdown",
   "metadata": {},
   "source": [
    "### 文本去标点，分词\n",
    "#### 去掉指定的一些标点，但保留完整的网站链接"
   ]
  },
  {
   "cell_type": "code",
   "execution_count": 3,
   "metadata": {
    "scrolled": true
   },
   "outputs": [
    {
     "name": "stdout",
     "output_type": "stream",
     "text": [
      "[['house', 'may', 'kill', 'arizonastyle', 'immigration', 'bill', 'rep', 'rick', 'rand', 'says:', 'the', 'house', 'is', 'unlikely', 'to', 'pass', 'the', '\"ari', 'http://tinyurlcom/4jrjcdz'], ['mourners', 'recall', 'sarge', \"shriver's\", 'charity', 'idealism', 'ap:', 'ap', 'r', 'sargent', 'shriver', 'was', 'always', 'an', 'optimist', 'pio', 'http://bitly/gqmcdg'], ['bass', 'fishing', 'techniques:', '2', 'fantastic', 'tips', 'to', 'improve', 'your', 'casting', 'skills'], ['financial', 'aid', 'proper', 'method', 'of', 'getting', 'financial', 'aid', 'for', 'education', 'http://pingfm/bk0r3', 'applyingforfinancialaid', 'financialaidessay'], ['supreme', 'court:', \"nasa's\", 'intrusive', 'background', 'checks', 'ok', 'http://bitly/h2jgy9'], ['the', 'mcdonalds', 'music', 'to', 'fireworks', 'is', 'an', 'all', 'time', 'low'], ['@alyce', 'very', 'sweet', 'and', 'quiet', 'if', 'not', 'polished', 'bono', 'hansard', 'at', 'sgt', \"shriver's\", 'funeral', '2day:', 'http://youtube/bf14xbbcvzg', 'when', 'was', \"cont'd\"], ['so', 'avonsomerset', 'police', 'have', 'charged', 'vincent', 'tabak', 'with', 'the', 'murder', 'of', 'jo', 'yeates', 'i', 'really', 'hope', \"they're\", 'right', 'otherwise', 'his', 'life', 'is', 'ruined'], ['hawaii', 'gov', 'waffles', 'on', 'obama’s', 'birth', 'certificate', '–', 'patriot', 'update', 'http://tco/1uxya0r', 'via', '@addthis'], ['ive', 'never', 'retweeted', 'myself', 'but', 'wanted', 'to', 'pass', 'on', 'to', '@atu2', 'rt', '@tommymcgregor:', 'i', 'want', 'bono', 'to', 'sing', 'at', 'my', 'funeral', 'http://bitly/i0kden']]\n",
      "30548\n",
      "<class 'list'>\n"
     ]
    }
   ],
   "source": [
    "\n",
    "text2=[]\n",
    "for t in text1:\n",
    "    line=re.sub(\"[&!#.,|()-]+\",'',t)\n",
    "    line=line.split()\n",
    "    z=[]\n",
    "    for word in line:\n",
    "        lower=word.lower()\n",
    "        z.append(lower)\n",
    "    text2.append(z)   \n",
    "print(text2[:10])\n",
    "print(len(text2))\n",
    "print(type(line))"
   ]
  },
  {
   "cell_type": "markdown",
   "metadata": {},
   "source": [
    "### 构建词袋"
   ]
  },
  {
   "cell_type": "code",
   "execution_count": 4,
   "metadata": {},
   "outputs": [
    {
     "name": "stdout",
     "output_type": "stream",
     "text": [
      "<class 'list'>\n",
      "[('the', 9661), ('to', 7701), ('in', 5867), ('of', 5587), ('a', 5456), ('for', 4358), ('on', 4179), ('and', 4157), ('rt', 3669), ('is', 3203)]\n"
     ]
    }
   ],
   "source": [
    "wordsbag={}\n",
    "for text in text2:\n",
    "    text=set(text)\n",
    "    for word in text:\n",
    "        word=word.lower()\n",
    "        if word not in wordsbag:\n",
    "            wordsbag[word]=1\n",
    "        else:\n",
    "            wordsbag[word]+=1\n",
    "L = sorted(wordsbag.items(),key = lambda x:x[1],reverse=True) #按升序排序\n",
    "print(type(L))\n",
    "print(L[:10])"
   ]
  },
  {
   "cell_type": "code",
   "execution_count": 5,
   "metadata": {},
   "outputs": [
    {
     "name": "stdout",
     "output_type": "stream",
     "text": [
      "['the', 'to', 'in', 'of', 'a', 'for', 'on', 'and', 'rt', 'is']\n",
      "67947\n"
     ]
    }
   ],
   "source": [
    "vocab=[]\n",
    "for m in range(len(L)):\n",
    "    vocab.append(L[m][0])\n",
    "print(vocab[:10])\n",
    "print(len(L))"
   ]
  },
  {
   "cell_type": "markdown",
   "metadata": {},
   "source": [
    "### 找到每个词出现过的位置"
   ]
  },
  {
   "cell_type": "code",
   "execution_count": 6,
   "metadata": {},
   "outputs": [
    {
     "name": "stdout",
     "output_type": "stream",
     "text": [
      "Wall time: 2min 12s\n"
     ]
    }
   ],
   "source": [
    "%%time\n",
    "#初始化所需的倒排索引字典\n",
    "inverted_index={}\n",
    "for i in vocab:\n",
    "    inverted_index[i]=[]\n",
    "    \n",
    "for t in text2:\n",
    "    line=set(t)\n",
    "    for word in line:\n",
    "        inverted_index[word].append(text2.index(t))   "
   ]
  },
  {
   "cell_type": "code",
   "execution_count": 7,
   "metadata": {},
   "outputs": [
    {
     "name": "stdout",
     "output_type": "stream",
     "text": [
      "[99, 155, 193, 238, 1050, 1094, 1202, 1301, 1469, 1545, 1574, 1586, 1625, 1734, 2189, 2213, 2264, 2265, 3132, 3284, 3399, 3535, 3548, 3551, 3672, 3678, 3720, 3754, 3767, 3771, 3906, 4055, 4066, 4091, 4094, 4104, 4113, 4152, 4179, 4236, 4239, 4256, 4275, 4548, 4831, 5320, 5395, 5977, 6089, 6706, 6718, 6787, 6980, 7143, 7232, 7415, 7471, 7849, 9637, 9648, 10997, 11054, 11438, 11054, 11988, 14992, 15023, 15024, 15025, 15028, 15029, 15065, 15079, 15285, 15289, 15442, 15486, 15506, 15519, 15523, 15525, 15530, 15545, 15564, 15589, 15589, 15598, 15600, 15610, 15613, 15620, 15622, 15623, 15631, 15633, 15646, 15656, 15662, 15662, 15668, 15694, 15703, 15708, 15718, 15742, 15759, 15764, 15787, 15790, 15799, 15816, 15822, 15830, 15864, 15872, 15874, 15875, 15879, 15925, 15926, 15931, 16002, 16043, 16049, 16056, 16082, 16102, 16104, 16112, 16314, 16314, 16320, 16320, 16324, 16338, 16338, 16340, 16340, 16342, 16342, 16348, 16348, 16359, 16359, 16618, 16618, 16952, 17180, 17181, 17791, 18428, 19052, 19705, 19788, 19790, 19800, 19812, 19908, 19909, 20008, 20159, 20200, 20220, 20233, 20244, 20253, 20295, 20357, 20369, 20394, 20440, 20855, 21435, 21969, 22623, 23002, 23018, 23021, 23055, 23101, 23271, 23295, 23306, 23312, 23321, 23322, 23326, 23350, 23361, 23374, 23385, 23386, 23397, 23409, 23462, 23486, 23521, 23851, 24105, 24107, 24128, 24307, 24313, 24585, 24603, 24107, 24778, 24859, 24867, 24869, 24871, 24878, 24882, 24883, 24869, 24871, 24869, 24882, 24905, 24883, 25346, 25411, 25414, 25420, 25411, 25511, 25561, 25856, 25916, 26107, 26503, 26507, 26561, 26561, 26561, 26695, 26726, 26729, 26747, 26747, 26747, 26747, 26747, 26747, 26747, 26884, 26986, 26747, 27095, 27144, 27154, 27175, 27297, 27509, 27561, 27566, 27581, 27676, 28265, 28325, 26747, 29001, 29177, 29177, 30087, 30172, 30195, 30379]\n"
     ]
    }
   ],
   "source": [
    "print(inverted_index['win'])#找到任意一个指定词的索引"
   ]
  },
  {
   "cell_type": "markdown",
   "metadata": {},
   "source": [
    "\n",
    "# 构建简单布尔查询"
   ]
  },
  {
   "cell_type": "markdown",
   "metadata": {},
   "source": [
    "### not 非运算"
   ]
  },
  {
   "cell_type": "code",
   "execution_count": 8,
   "metadata": {
    "collapsed": true
   },
   "outputs": [],
   "source": [
    "def B_Not(key):\n",
    "    result=[]\n",
    "    tweet=[]\n",
    "    for i in range(inverted_index[key][-1]):\n",
    "        if i not in inverted_index[key]:\n",
    "            result.append(i)\n",
    "    for j in range(inverted_index[key][-1],len(text2)):\n",
    "        result.append(j)\n",
    "    for n in result:\n",
    "        tweet.append(text1[n])\n",
    "    if len(tweet)>50:\n",
    "        for i in tweet[:50]:\n",
    "            print(i,'\\n')\n",
    "        return result[:50]\n",
    "    else:\n",
    "        for i in tweet:\n",
    "            print(i,'\\n')\n",
    "        return result"
   ]
  },
  {
   "cell_type": "markdown",
   "metadata": {},
   "source": [
    "\n",
    "### and 交集运算"
   ]
  },
  {
   "cell_type": "code",
   "execution_count": 9,
   "metadata": {
    "collapsed": true
   },
   "outputs": [],
   "source": [
    "def B_And(key1,key2):\n",
    "    result=[]\n",
    "    tweet=[]\n",
    "    i=0\n",
    "    j=0\n",
    "    while(i<len(inverted_index[key1])and j<len(inverted_index[key2])):\n",
    "        if inverted_index[key1][i]==inverted_index[key2][j]:\n",
    "            result.append(inverted_index[key1][i])\n",
    "            i+=1\n",
    "            j+=1\n",
    "        else:\n",
    "            if inverted_index[key1][i]<inverted_index[key2][j]:\n",
    "                i=i+1\n",
    "            else:\n",
    "                j=j+1\n",
    "    for n in result:\n",
    "        tweet.append(text1[n])\n",
    "    if len(tweet)>50:\n",
    "        for i in tweet[:50]:\n",
    "            print(i,'\\n')\n",
    "        return result[:50]\n",
    "    else:\n",
    "        for i in tweet:\n",
    "            print(i,'\\n')\n",
    "        return result"
   ]
  },
  {
   "cell_type": "markdown",
   "metadata": {},
   "source": [
    "### or 并集运算"
   ]
  },
  {
   "cell_type": "code",
   "execution_count": 10,
   "metadata": {
    "collapsed": true
   },
   "outputs": [],
   "source": [
    "def B_Or(key1,key2):\n",
    "    result=[]\n",
    "    tweet=[]\n",
    "    result.extend(inverted_index[key1][:])\n",
    "    result.extend(inverted_index[key2][:])\n",
    "    result=set(result)\n",
    "    result=list(result)\n",
    "    result.sort(reverse=False)\n",
    "    for n in result:\n",
    "        tweet.append(text1[n])\n",
    "    if len(tweet)>50:\n",
    "        for i in tweet[:50]:\n",
    "            print(i,'\\n')\n",
    "        return result[:50]\n",
    "    else:\n",
    "        for i in tweet:\n",
    "            print(i,'\\n')\n",
    "        return result"
   ]
  },
  {
   "cell_type": "markdown",
   "metadata": {},
   "source": [
    "### 构建识别查询语句的函数\n",
    "#### 这里将查询语句拆分，对识别到的关键查询词分别进行对应的操作"
   ]
  },
  {
   "cell_type": "code",
   "execution_count": 11,
   "metadata": {
    "collapsed": true
   },
   "outputs": [],
   "source": [
    "def search(Q):\n",
    "    s=Q.split()\n",
    "    for i in s:\n",
    "        if 'and' in i:\n",
    "             return B_And(s[0],s[2])\n",
    "        elif 'or' in i:\n",
    "             return B_Or(s[0],s[2])\n",
    "        elif 'not' in i:\n",
    "             return B_Not(s[1])"
   ]
  },
  {
   "cell_type": "markdown",
   "metadata": {},
   "source": [
    "### 输入语句测试"
   ]
  },
  {
   "cell_type": "code",
   "execution_count": 12,
   "metadata": {},
   "outputs": [
    {
     "name": "stdout",
     "output_type": "stream",
     "text": [
      "New York City mayor says confident will win appeal on soda ban http://t.co/FHM20PdMuu | Reuters #news \n",
      "\n",
      "City To Appeal Legal Block Of Ban On Large Sugary Drinks: A judge has blocked the Bloomberg administration's e... http://t.co/DIR21BdqJ8 \n",
      "\n",
      "Judge stops NYC ban on large sugary drinks, city plans appeal - http://t.co/Jczg08UCbp http://t.co/kUL3z1UXsa \n",
      "\n"
     ]
    },
    {
     "data": {
      "text/plain": [
       "[20200, 20212, 20451]"
      ]
     },
     "execution_count": 12,
     "metadata": {},
     "output_type": "execute_result"
    }
   ],
   "source": [
    "search('city and appeal')"
   ]
  },
  {
   "cell_type": "code",
   "execution_count": 13,
   "metadata": {},
   "outputs": [
    {
     "name": "stdout",
     "output_type": "stream",
     "text": [
      "Piranha Fish Attack Photos: Leave a comment. Anonymous 2leep user. Login. Password. Don't have an account? Creat... http://bit.ly/eaZPo1 \n",
      "\n",
      "Slept way too late for McDonalds breakfast \n",
      "\n",
      "Slept in, now watching kim and kourtney take ny and keeping up with the kardashians marathon. Thanks @KimKardashian for a gooood morning! \n",
      "\n",
      "@_FloridaMan  \n",
      "Huge sinkhole swallows Florida man as he slept\n",
      "http://t.co/PH2i5Yi9ql \n",
      "\n",
      "Evernote Resets Passwords After Attackers Steal Login Data - PC Magazine: Economic TimesEvernote R... http://t.co/fzaChsXK7H #Tech #News \n",
      "\n",
      "#Tech Evernote Resets Passwords After Attackers Steal Login Data - PC Magazine http://t.co/EigErMV7Du \n",
      "\n"
     ]
    },
    {
     "data": {
      "text/plain": [
       "[253, 259, 1228, 17021, 17605, 17608]"
      ]
     },
     "execution_count": 13,
     "metadata": {},
     "output_type": "execute_result"
    }
   ],
   "source": [
    "search('login or slept')"
   ]
  },
  {
   "cell_type": "code",
   "execution_count": 14,
   "metadata": {},
   "outputs": [
    {
     "name": "stdout",
     "output_type": "stream",
     "text": [
      "Mourners recall Sarge Shriver's charity, idealism \n",
      "    (AP): AP - R. Sargent Shriver was always an optimist, pio... http://bit.ly/gqMcdG \n",
      "\n",
      "Bass Fishing Techniques: 2 Fantastic Tips To Improve Your Casting Skills \n",
      "\n",
      "#Financial Aid | Proper Method Of Getting Financial Aid For Education http://ping.fm/BK0R3 #applying-for-financial-aid financial-aid-essay # \n",
      "\n",
      "Supreme Court: NASA's intrusive background checks OK http://bit.ly/h2jgy9 \n",
      "\n",
      "@alyce Very sweet and quiet, if not polished - Bono & Hansard at Sgt Shriver's funeral 2day: http://youtu.be/Bf14XBbcVZg (when was ...cont'd \n",
      "\n",
      "Hawaii Gov Waffles on Obama’s Birth Certificate – Patriot Update http://t.co/1UxYa0r via @AddThis \n",
      "\n",
      "Ive never retweeted myself but wanted to pass on to @atu2 RT @tommymcgregor: I Want Bono To Sing At My Funeral! http://bit.ly/i0KdEn \n",
      "\n",
      "Iran nuclear talks end with no agreement; US officials say six powers aligned - Washington Post: Fox News (blog)... http://bit.ly/e78uRg \n",
      "\n",
      "Are Jobs Really Obama's Focus?: More job losses and unemployment figures seemingly steady at over nine percent t... http://bit.ly/el4klF \n",
      "\n",
      "Will the cyber worm turn?: ... any kind of computer network. Manufacturers of industrial controllers and automat... http://bit.ly/gyBgeW \n",
      "\n",
      "Man charged for Jo Yeaters murder - WWW.DESIMAG.CO.UK \n",
      "\n",
      "#Giffords More Alert Today, Say Hopeful Doctors http://fxn.ws/ffb9gI \n",
      "\n",
      "Ice Fishing in Iowa http://www.blogtopsites.com/p/8569641 \n",
      "\n",
      "@maddow on #realtime with @billmaher is brilliant! i luvs her! \n",
      "\n",
      "HaHa! Baffled by anyone needing that much caffeine! RT @EdzizleMizzle Shouldnt it be Trentayuno? @KOttavio Starbucks 31oz Trenta debut set \n",
      "\n",
      "Elizabeth Olsen Makes Sundance Film Festival Debut: Following in her sisters' footsteps with a theatrical ... http://tinyurl.com/4vzc3sg \n",
      "\n",
      "Consolidating Credit Card Debt with a Home Equity Loan http://tinyurl.com/47gx8nm \n",
      "\n",
      "Can police just kick down a door if they smell marijuana? US Supreme court to decide a Kentucky case.  http://bit.ly/hWv6n9 \n",
      "\n",
      "Congresswoman Giffords on road to rehab in Texas - http://newzfor.me/?cmqb \n",
      "\n",
      "Trout are biting. Get your tackle!! Read Urban Phoenix%2C AZ Metro Lake Fishing Trips In Local Parks, http://hubpages.com/t/19b781 \n",
      "\n",
      "@GibbsRules http://www.tarasharp.com/crime-tv-ncis/ \n",
      "\n",
      "Robert Redford Opens 30th Anniversary of Sundance Film Festival; Protests Planned http://bit.ly/f71hHK \n",
      "\n",
      "WOW!! Utila Tours and Laguna Beach #Resort a #Diving, #Fishing, and beach get away #Utila #Roatan #BayIslands #Scuba http://t.co/6TTcvAa \n",
      "\n",
      "My empty fish tank. Wheres @Ms_TempurPedic ? I thought we were gonna get some fish http://yfrog.com/h2nl9pj \n",
      "\n",
      "Updated Rehab Aims To Give Giffords Her Life Back - Staying ...: Staying Healthy. MainNav. Home · Local News · S... http://bit.ly/e5MKVG \n",
      "\n",
      "Rehab likely to be hardest task Rep. Giffords will ever do - http://newzfor.me/?cisb [Like it? http://bit.ly/hmnzzR ] \n",
      "\n",
      "Poll finds 61% oppose new airport security measures | Money & Company | Los Angeles Times http://latimesblogs… http://pi.pe/-rwk67c \n",
      "\n",
      "fish http://bit.ly/eKOpjv :P \n",
      "\n",
      "New Windows Can Save You Money on Your Electric Bills http://tinyurl.com/4gn4m5m \n",
      "\n",
      "Students, activists stage rival demonstrations at Yemeni university http://bit.ly/fzGLP9 \n",
      "\n",
      "Yemen protests urge leader's exit: Thousands of students, activists and opposition groups stage anti-president p... http://bit.ly/he0b3f \n",
      "\n",
      "A Shredded BBQ Chicken Sliders with Creamy Cole Slaw #recipe was just added: http://bit.ly/gPMYh1 \n",
      "\n",
      "Detroit 2011ÿFD: Venturi enters America! - http://newzfor.me/?c0rb \n",
      "\n",
      "legit\ton\tlockdown at mcdonalds. Not a joke. \n",
      "\n",
      "Wisconsin to offer 1-day fishing licenses in 2011 - Milwaukee Journal Sentinel (blog) http://sns.ly/fPbUy5 \n",
      "\n",
      "@SarahBrownUK OH, phone hacking + Gordon Brown, I wonder if they got his chat's with Gerry #McCann @piersmorgan @DavidPrescott @johnprescott \n",
      "\n",
      "New Easy recipe: Ranch-House Casserole http://bit.ly/htanGc #recipes \n",
      "\n",
      "Good story --&gt; PhotogEnrique Metinides artfully captured five decades of mayhem in Mexico City http://t.co/PvLRqoG / #Photography  #Mexico \n",
      "\n",
      "Walmart embraces first lady's nutrition campaign http://bit.ly/eucx3N \n",
      "\n",
      "I love Novak #djokovic. He is such a clown . \"dancing with Djokovic\"  #ausopen \n",
      "\n",
      "Fabulous recipe for Mexican Caldo De Pollo - Chicken #Soup and Jalepeno - cheese cornbread: http://dld.bz/7naJ \n",
      "\n",
      "Rep. Sullivan Talks Giffords' Road To Recovery http://bit.ly/fLDPeo \n",
      "\n",
      "Shriver is remembered as optimist who helped others – Fort Worth Star Telegram: Fox News Shr... http://bit.ly/dOZThG Breaking news today \n",
      "\n",
      "Mourners recall Sarge Shriver’s charity, idealism – San Jose Mercury News: Washington Post M... http://bit.ly/faKbAc Breaking news today \n",
      "\n",
      "Exp @Dobroyeutro: Nuclear Talks with Iran Collapse | @EurasiaReview |   #Iran #nuclear http://goo.gl/fb/VxXPd \n",
      "\n",
      "Brain fluid buildup could delay Giffords' rehab: Rep. Gabrielle Giffords was transferred to Houston to begin brain... http://dlvr.it/Dtz6h \n",
      "\n",
      "Stopped by McDonald's for a drink, and apparently they now have 50 piece mcnuggets. Take that, Starbucks! \n",
      "\n",
      "Pressure grows for end to Myanmar sanctions \\n    (AFP)\\n http://bit.ly/e6iiai \n",
      "\n",
      "Acai Berry UK » Blog Archive » Working out To reduce Extra weight: Posted by admin | Posted in Acai Berry UK | P... http://bit.ly/iknsS7 \n",
      "\n",
      "[Recap] Without Steve Jobs, will good times last at Apple? http://ow.ly/3Io4N \n",
      "\n"
     ]
    },
    {
     "data": {
      "text/plain": [
       "[1,\n",
       " 2,\n",
       " 3,\n",
       " 4,\n",
       " 6,\n",
       " 8,\n",
       " 9,\n",
       " 11,\n",
       " 12,\n",
       " 14,\n",
       " 19,\n",
       " 21,\n",
       " 22,\n",
       " 23,\n",
       " 24,\n",
       " 25,\n",
       " 27,\n",
       " 28,\n",
       " 29,\n",
       " 30,\n",
       " 31,\n",
       " 32,\n",
       " 34,\n",
       " 35,\n",
       " 36,\n",
       " 37,\n",
       " 38,\n",
       " 39,\n",
       " 40,\n",
       " 41,\n",
       " 45,\n",
       " 46,\n",
       " 47,\n",
       " 48,\n",
       " 49,\n",
       " 51,\n",
       " 52,\n",
       " 53,\n",
       " 54,\n",
       " 55,\n",
       " 56,\n",
       " 57,\n",
       " 58,\n",
       " 59,\n",
       " 60,\n",
       " 63,\n",
       " 64,\n",
       " 66,\n",
       " 68,\n",
       " 69]"
      ]
     },
     "execution_count": 14,
     "metadata": {},
     "output_type": "execute_result"
    }
   ],
   "source": [
    "search('not the')"
   ]
  },
  {
   "cell_type": "markdown",
   "metadata": {},
   "source": [
    "#### 由于做的只是基本的布尔查询，所以虽然显示结果是准确的，但却无法完成附加更多条件的更精确的搜索，尤其是not运算，只是单单not一个词的话得到的满足条件的推特过多。在此无论何种查询最多只排出前50条，就实际情况的查询而言不具备太大的价值。这是本次实验最大的一个不足。"
   ]
  }
 ],
 "metadata": {
  "kernelspec": {
   "display_name": "Python 3",
   "language": "python",
   "name": "python3"
  },
  "language_info": {
   "codemirror_mode": {
    "name": "ipython",
    "version": 3
   },
   "file_extension": ".py",
   "mimetype": "text/x-python",
   "name": "python",
   "nbconvert_exporter": "python",
   "pygments_lexer": "ipython3",
   "version": "3.5.4"
  }
 },
 "nbformat": 4,
 "nbformat_minor": 2
}
