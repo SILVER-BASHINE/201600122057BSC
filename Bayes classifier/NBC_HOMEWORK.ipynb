{
 "cells": [
  {
   "cell_type": "code",
   "execution_count": 23,
   "metadata": {},
   "outputs": [],
   "source": [
    "import re\n",
    "import numpy as np\n",
    "import pandas as pd\n",
    "import os\n",
    "from nltk.corpus import stopwords\n",
    "from nltk.stem import SnowballStemmer as ss\n",
    "import chardet\n",
    "import codecs"
   ]
  },
  {
   "cell_type": "code",
   "execution_count": 24,
   "metadata": {},
   "outputs": [],
   "source": [
    "labels={0:'G:/PYCHARM/untitled3/20news-18828/alt.atheism',\n",
    "       1:'G:/PYCHARM/untitled3/20news-18828/comp.graphics',\n",
    "        2:'G:/PYCHARM/untitled3/20news-18828/comp.os.ms-windows.misc',\n",
    "        3:'G:/PYCHARM/untitled3/20news-18828/comp.sys.ibm.pc.hardware',\n",
    "        4:'G:/PYCHARM/untitled3/20news-18828/comp.sys.mac.hardware',\n",
    "        5:'G:/PYCHARM/untitled3/20news-18828/comp.windows.x',\n",
    "        6:'G:/PYCHARM/untitled3/20news-18828/misc.forsale',\n",
    "        7:'G:/PYCHARM/untitled3/20news-18828/rec.autos',\n",
    "        8:'G:/PYCHARM/untitled3/20news-18828/rec.motorcycles',\n",
    "        9:'G:/PYCHARM/untitled3/20news-18828/rec.sport.baseball',\n",
    "        10:'G:/PYCHARM/untitled3/20news-18828/rec.sport.hockey',\n",
    "        11:'G:/PYCHARM/untitled3/20news-18828/sci.crypt',\n",
    "        12:'G:/PYCHARM/untitled3/20news-18828/sci.electronics',\n",
    "        13:'G:/PYCHARM/untitled3/20news-18828/sci.med',\n",
    "        14:'G:/PYCHARM/untitled3/20news-18828/sci.space',\n",
    "        15:'G:/PYCHARM/untitled3/20news-18828/soc.religion.christian',\n",
    "        16:'G:/PYCHARM/untitled3/20news-18828/talk.politics.guns',\n",
    "        17:'G:/PYCHARM/untitled3/20news-18828/talk.politics.mideast',\n",
    "        18:'G:/PYCHARM/untitled3/20news-18828/talk.politics.misc',\n",
    "        19:'G:/PYCHARM/untitled3/20news-18828/talk.religion.misc'\n",
    "       }"
   ]
  },
  {
   "cell_type": "code",
   "execution_count": 25,
   "metadata": {},
   "outputs": [
    {
     "name": "stdout",
     "output_type": "stream",
     "text": [
      "G:/PYCHARM/untitled3/20news-18828/alt.atheism\n",
      "G:/PYCHARM/untitled3/20news-18828/comp.graphics\n",
      "G:/PYCHARM/untitled3/20news-18828/comp.os.ms-windows.misc\n",
      "G:/PYCHARM/untitled3/20news-18828/comp.sys.ibm.pc.hardware\n",
      "G:/PYCHARM/untitled3/20news-18828/comp.sys.mac.hardware\n",
      "G:/PYCHARM/untitled3/20news-18828/comp.windows.x\n",
      "G:/PYCHARM/untitled3/20news-18828/misc.forsale\n",
      "G:/PYCHARM/untitled3/20news-18828/rec.autos\n",
      "G:/PYCHARM/untitled3/20news-18828/rec.motorcycles\n",
      "G:/PYCHARM/untitled3/20news-18828/rec.sport.baseball\n",
      "G:/PYCHARM/untitled3/20news-18828/rec.sport.hockey\n",
      "G:/PYCHARM/untitled3/20news-18828/sci.crypt\n",
      "G:/PYCHARM/untitled3/20news-18828/sci.electronics\n",
      "G:/PYCHARM/untitled3/20news-18828/sci.med\n",
      "G:/PYCHARM/untitled3/20news-18828/sci.space\n",
      "G:/PYCHARM/untitled3/20news-18828/soc.religion.christian\n",
      "G:/PYCHARM/untitled3/20news-18828/talk.politics.guns\n",
      "G:/PYCHARM/untitled3/20news-18828/talk.politics.mideast\n",
      "G:/PYCHARM/untitled3/20news-18828/talk.politics.misc\n",
      "G:/PYCHARM/untitled3/20news-18828/talk.religion.misc\n",
      "文档数: 18828\n"
     ]
    }
   ],
   "source": [
    "path='G:/PYCHARM/untitled3/20news-18828'\n",
    "packs=os.listdir(path)\n",
    "result1=[]\n",
    "result2=[]\n",
    "for pack in packs:\n",
    "     path1=path+\"/\"+pack\n",
    "     print(path1)\n",
    "     files=os.listdir(path1)\n",
    "     result1.append(path1)\n",
    "     for file in files:\n",
    "          path2=path1+\"/\"+file\n",
    "          result2.append(path2)\n",
    "\n",
    "print('文档数:',len(result2))"
   ]
  },
  {
   "cell_type": "code",
   "execution_count": 28,
   "metadata": {},
   "outputs": [
    {
     "ename": "KeyboardInterrupt",
     "evalue": "",
     "output_type": "error",
     "traceback": [
      "\u001b[1;31m---------------------------------------------------------------------------\u001b[0m",
      "\u001b[1;31mKeyboardInterrupt\u001b[0m                         Traceback (most recent call last)",
      "\u001b[1;32m<ipython-input-28-81c65313b549>\u001b[0m in \u001b[0;36m<module>\u001b[1;34m()\u001b[0m\n\u001b[0;32m     15\u001b[0m \u001b[1;33m\u001b[0m\u001b[0m\n\u001b[0;32m     16\u001b[0m     \u001b[1;32mfor\u001b[0m \u001b[0mlane\u001b[0m \u001b[1;32min\u001b[0m \u001b[0mtext_path\u001b[0m\u001b[1;33m:\u001b[0m\u001b[1;33m\u001b[0m\u001b[0m\n\u001b[1;32m---> 17\u001b[1;33m         \u001b[0md\u001b[0m \u001b[1;33m=\u001b[0m \u001b[0mopen\u001b[0m\u001b[1;33m(\u001b[0m\u001b[0mlane\u001b[0m\u001b[1;33m,\u001b[0m\u001b[1;34m'rb'\u001b[0m\u001b[1;33m)\u001b[0m\u001b[1;33m\u001b[0m\u001b[0m\n\u001b[0m\u001b[0;32m     18\u001b[0m         \u001b[0mdata\u001b[0m \u001b[1;33m=\u001b[0m \u001b[0md\u001b[0m\u001b[1;33m.\u001b[0m\u001b[0mread\u001b[0m\u001b[1;33m(\u001b[0m\u001b[1;33m)\u001b[0m\u001b[1;33m\u001b[0m\u001b[0m\n\u001b[0;32m     19\u001b[0m         \u001b[0mencode\u001b[0m \u001b[1;33m=\u001b[0m \u001b[0mchardet\u001b[0m\u001b[1;33m.\u001b[0m\u001b[0mdetect\u001b[0m\u001b[1;33m(\u001b[0m\u001b[0mdata\u001b[0m\u001b[1;33m)\u001b[0m\u001b[1;33m[\u001b[0m\u001b[1;34m'encoding'\u001b[0m\u001b[1;33m]\u001b[0m\u001b[1;33m\u001b[0m\u001b[0m\n",
      "\u001b[1;31mKeyboardInterrupt\u001b[0m: "
     ]
    }
   ],
   "source": [
    "stp = stopwords.words('english')\n",
    "stm = ss('english')\n",
    "keys_labels=list(labels.keys())\n",
    "words_in_labels=[]\n",
    "wordlist={}\n",
    "glossary={}\n",
    "pack=[]\n",
    "r1 = u'[a-zA-Z0-9’!\"#$%&\\'()*+,-./:;<=>?@，。?★、…【】《》？“”‘’！[\\\\]^_`{|}~\\s]+'\n",
    "text_path=[]\n",
    "for key in keys_labels:\n",
    "    \n",
    "    for path0 in os.listdir(labels[key]):\n",
    "        path1=labels[key]+\"/\"+path0\n",
    "        text_path.append(path1)\n",
    "        \n",
    "    for lane in text_path:    \n",
    "        d = open(lane,'rb')\n",
    "        data = d.read()\n",
    "        encode = chardet.detect(data)['encoding']\n",
    "        with codecs.open(lane, encoding=encode) as d:\n",
    "            words = d.read()\n",
    "            words=re.sub(r1,'',words)\n",
    "            for word in words:\n",
    "                 word = stm.stem(word)\n",
    "            words = words.split() \n",
    "            if word not in stp:\n",
    "                 if word in wordlist:\n",
    "                    wordlist[word]+=1\n",
    "                 else:\n",
    "                    wordlist[word]=1\n",
    "            \n",
    "            for i in wordlist:\n",
    "                if wordlist[i] >= 6 and wordlist[i] <= 1000:\n",
    "                     glossary[i]=wordlist[i]\n",
    "                     pack.append(\"%s,%s\\n\" %(i,wordlist[i]))\n",
    "            \n",
    "            \n",
    "                        \n",
    "                        \n",
    "                        \n",
    "       \n",
    "                            \n",
    "                            \n",
    "                            \n",
    "                            \n",
    "            \n",
    "        \n",
    "        "
   ]
  },
  {
   "cell_type": "code",
   "execution_count": null,
   "metadata": {},
   "outputs": [],
   "source": []
  }
 ],
 "metadata": {
  "kernelspec": {
   "display_name": "Python 3",
   "language": "python",
   "name": "python3"
  },
  "language_info": {
   "codemirror_mode": {
    "name": "ipython",
    "version": 3
   },
   "file_extension": ".py",
   "mimetype": "text/x-python",
   "name": "python",
   "nbconvert_exporter": "python",
   "pygments_lexer": "ipython3",
   "version": "3.6.5"
  }
 },
 "nbformat": 4,
 "nbformat_minor": 2
}
