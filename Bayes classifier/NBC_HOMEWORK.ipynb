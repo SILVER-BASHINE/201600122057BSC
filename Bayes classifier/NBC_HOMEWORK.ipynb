{
 "cells": [
  {
   "cell_type": "markdown",
   "metadata": {},
   "source": [
    "# 贝叶斯分类器（伯努利模型）\n",
    "  "
   ]
  },
  {
   "cell_type": "code",
   "execution_count": 4,
   "metadata": {},
   "outputs": [],
   "source": [
    "import re\n",
    "import numpy as np\n",
    "import pandas as pd\n",
    "import os\n",
    "from nltk.corpus import stopwords\n",
    "from nltk.stem import SnowballStemmer as ss\n",
    "import chardet\n",
    "import codecs"
   ]
  },
  {
   "cell_type": "markdown",
   "metadata": {},
   "source": [
    "## 给20类文本集打上标签，并遍历所有文本文件"
   ]
  },
  {
   "cell_type": "code",
   "execution_count": 5,
   "metadata": {},
   "outputs": [],
   "source": [
    "labels={0:'G:/PYCHARM/untitled3/20news-18828/alt.atheism',\n",
    "       1:'G:/PYCHARM/untitled3/20news-18828/comp.graphics',\n",
    "        2:'G:/PYCHARM/untitled3/20news-18828/comp.os.ms-windows.misc',\n",
    "        3:'G:/PYCHARM/untitled3/20news-18828/comp.sys.ibm.pc.hardware',\n",
    "        4:'G:/PYCHARM/untitled3/20news-18828/comp.sys.mac.hardware',\n",
    "        5:'G:/PYCHARM/untitled3/20news-18828/comp.windows.x',\n",
    "        6:'G:/PYCHARM/untitled3/20news-18828/misc.forsale',\n",
    "        7:'G:/PYCHARM/untitled3/20news-18828/rec.autos',\n",
    "        8:'G:/PYCHARM/untitled3/20news-18828/rec.motorcycles',\n",
    "        9:'G:/PYCHARM/untitled3/20news-18828/rec.sport.baseball',\n",
    "        10:'G:/PYCHARM/untitled3/20news-18828/rec.sport.hockey',\n",
    "        11:'G:/PYCHARM/untitled3/20news-18828/sci.crypt',\n",
    "        12:'G:/PYCHARM/untitled3/20news-18828/sci.electronics',\n",
    "        13:'G:/PYCHARM/untitled3/20news-18828/sci.med',\n",
    "        14:'G:/PYCHARM/untitled3/20news-18828/sci.space',\n",
    "        15:'G:/PYCHARM/untitled3/20news-18828/soc.religion.christian',\n",
    "        16:'G:/PYCHARM/untitled3/20news-18828/talk.politics.guns',\n",
    "        17:'G:/PYCHARM/untitled3/20news-18828/talk.politics.mideast',\n",
    "        18:'G:/PYCHARM/untitled3/20news-18828/talk.politics.misc',\n",
    "        19:'G:/PYCHARM/untitled3/20news-18828/talk.religion.misc'\n",
    "       }"
   ]
  },
  {
   "cell_type": "code",
   "execution_count": 6,
   "metadata": {
    "scrolled": true
   },
   "outputs": [
    {
     "name": "stdout",
     "output_type": "stream",
     "text": [
      "G:/PYCHARM/untitled3/20news-18828/alt.atheism\n",
      "G:/PYCHARM/untitled3/20news-18828/comp.graphics\n",
      "G:/PYCHARM/untitled3/20news-18828/comp.os.ms-windows.misc\n",
      "G:/PYCHARM/untitled3/20news-18828/comp.sys.ibm.pc.hardware\n",
      "G:/PYCHARM/untitled3/20news-18828/comp.sys.mac.hardware\n",
      "G:/PYCHARM/untitled3/20news-18828/comp.windows.x\n",
      "G:/PYCHARM/untitled3/20news-18828/misc.forsale\n",
      "G:/PYCHARM/untitled3/20news-18828/rec.autos\n",
      "G:/PYCHARM/untitled3/20news-18828/rec.motorcycles\n",
      "G:/PYCHARM/untitled3/20news-18828/rec.sport.baseball\n",
      "G:/PYCHARM/untitled3/20news-18828/rec.sport.hockey\n",
      "G:/PYCHARM/untitled3/20news-18828/sci.crypt\n",
      "G:/PYCHARM/untitled3/20news-18828/sci.electronics\n",
      "G:/PYCHARM/untitled3/20news-18828/sci.med\n",
      "G:/PYCHARM/untitled3/20news-18828/sci.space\n",
      "G:/PYCHARM/untitled3/20news-18828/soc.religion.christian\n",
      "G:/PYCHARM/untitled3/20news-18828/talk.politics.guns\n",
      "G:/PYCHARM/untitled3/20news-18828/talk.politics.mideast\n",
      "G:/PYCHARM/untitled3/20news-18828/talk.politics.misc\n",
      "G:/PYCHARM/untitled3/20news-18828/talk.religion.misc\n",
      "文档数: 18828\n"
     ]
    }
   ],
   "source": [
    "path='G:/PYCHARM/untitled3/20news-18828'\n",
    "packs=os.listdir(path)\n",
    "result2=[]\n",
    "for pack in packs:\n",
    "     path1=path+\"/\"+pack\n",
    "     print(path1)\n",
    "     files=os.listdir(path1)\n",
    "     result1.append(path1)\n",
    "     for file in files:\n",
    "          path2=path1+\"/\"+file\n",
    "          result2.append(path2)\n",
    "\n",
    "print('文档数:',len(result2))"
   ]
  },
  {
   "cell_type": "markdown",
   "metadata": {},
   "source": [
    "   \n",
    "   \n",
    "   仿照之前vsm的操作，对每个class下的每个文本进行去标点、stem、去停用词的操作，每处理完一个class就将其中词频过低以及过高的词都删减掉，并将处理后剩下的词存入与该class对应的vocab[key]中，同时vocab_deput用来存储每个vocab[key]中的关键词，将各个关键词的值初始化为0是为了方便之后的统计。"
   ]
  },
  {
   "cell_type": "code",
   "execution_count": 7,
   "metadata": {},
   "outputs": [
    {
     "name": "stdout",
     "output_type": "stream",
     "text": [
      "Wall time: 1min 12s\n"
     ]
    }
   ],
   "source": [
    "%%time\n",
    "stp = stopwords.words('english')\n",
    "stm = ss('english')\n",
    "keys_labels=list(labels.keys())\n",
    "\n",
    "\n",
    "symbols= [',','.',':','_','!','?','/','\\'','\\\"','*','>','<','@','~','-','(',')','%','=','\\\\','^'\n",
    "     ,'&','|','#','$','0','1','2','3','4','5','6','7','8','9','10','[',']','+','{','}',';','`','~']\n",
    "\n",
    "vocab=[[],[],[],[],[],[],[],[],[],[],[],[],[],[],[],[],[],[],[],[],[]]  #用来存放每个class文档所含的词\n",
    "vocab_deputy=[{},{},{},{},{},                                           #用来存储每个class文档的关键词\n",
    "    {},{},{},{},{},\n",
    "    {},{},{},{},{}, \n",
    "    {},{},{},{},{},]\n",
    "for key in keys_labels:\n",
    "    text_path=[]\n",
    "    wordlist={}\n",
    "    for path0 in os.listdir(labels[key]):\n",
    "        path1=labels[key]+\"/\"+path0\n",
    "        text_path.append(path1)\n",
    "        \n",
    "    for lane in text_path:\n",
    "        d = open(lane,'rb')\n",
    "        data = d.read()\n",
    "        encode = chardet.detect(data)['encoding']\n",
    "        with codecs.open(lane, encoding=encode) as d:\n",
    "            words = d.read()\n",
    "            for symbol in symbols:\n",
    "                 words = words.replace(symbol,'')\n",
    "            words = words.split()\n",
    "            for word in words:\n",
    "                word = stm.stem(word)\n",
    "                if word not in stp:\n",
    "                    if word in wordlist:\n",
    "                        wordlist[word]+=1\n",
    "                    else:\n",
    "                        wordlist[word]=1\n",
    "            \n",
    "    for i in wordlist:\n",
    "        if wordlist[i] >= 4 and wordlist[i] <= 1000:  #筛掉词频过低及过高的词\n",
    "            vocab[key].append(\"%s\" %i)\n",
    "            vocab_deputy[key][i]=0                    #将每个class关键词存入vocab_deputy中"
   ]
  },
  {
   "cell_type": "code",
   "execution_count": 8,
   "metadata": {
    "scrolled": true
   },
   "outputs": [
    {
     "name": "stdout",
     "output_type": "stream",
     "text": [
      "['mathew', 'mathewmantiscouk', 'subject', 'altath', 'faq', 'atheist', 'resourc', 'archivenam', 'altatheismarchivenam', 'lastmodifi', 'version', 'address', 'organ', 'usa', 'freedom', 'religion', 'foundat', 'darwin', 'fish', 'assort', 'avail', 'us', 'po', 'box', 'wi', 'telephon', 'evolut', 'design', 'sell', 'symbol', 'like', 'christian', 'stick', 'car', 'feet', 'word', 'written', 'insid', 'north', 'hollywood', 'ca', 'peopl', 'san', 'bay', 'area', 'get', 'lynn', 'gold', 'tri', 'mail', 'net', 'go', 'direct', 'price', 'per', 'american', 'press', 'aap', 'publish', 'various', 'book', 'critiqu', 'bibl', 'list', 'biblic', 'contradict', 'handbook', 'wp', 'ball', 'foot', 'pp', 'isbn', 'nd', 'edit', 'absurd', 'immor', 'contain', 'base', 'king', 'jame', 'austin', 'tx', 'road', 'fax', 'prometheus', 'includ', 'haught', 'holi', 'horror', 'see', 'east', 'street', 'buffalo', 'new', 'york', 'altern', 'may', 'newer', 'older', 'drive']\n"
     ]
    }
   ],
   "source": [
    "print(list(vocab_deputy[0].keys())[:100]) #第一类文档提取的前100个关键词"
   ]
  },
  {
   "cell_type": "code",
   "execution_count": 9,
   "metadata": {},
   "outputs": [
    {
     "name": "stdout",
     "output_type": "stream",
     "text": [
      "<class 'list'>\n"
     ]
    }
   ],
   "source": [
    "print(type(vocab[0]))"
   ]
  },
  {
   "cell_type": "markdown",
   "metadata": {},
   "source": [
    "## 基于贝叶斯概率计算构建模型"
   ]
  },
  {
   "cell_type": "code",
   "execution_count": 42,
   "metadata": {},
   "outputs": [
    {
     "name": "stdout",
     "output_type": "stream",
     "text": [
      "['daniel', 'subject', 'religion', 'homosexu', 'comput', 'write', 'recent', 'realiz', 'also', 'return', 'good', 'friend', 'point', 'sin', 'bibl', 'well', 'dont', 'see', 'could', 'consid', 'first', 'far', 'know', 'onli', 'male', 'explicit', 'mention', 'hook', 'think', 'ani', 'event', 'plenti', 'peopl', 'mani', 'denomin', 'person', 'sexual', 'identif', 'immor', 'lifestyl', 'choic', 'alway', 'somewhat', 'liber', 'prochoic', 'seem', 'religi', 'mix', 'either', 'told', 'anoth', 'misconcept', 'whole', 'stori', 'former', 'minist', 'lesbian', 'profession', 'sever', 'open', 'gay', 'like', 'go', 'look', 'accept', 'view', 'howev', 'us', 'believ', 'spiritu', 'freedom', 'conscienc', 'luck', 'journey', 'theolog', 'school', 'univers', 'divin', 'pharveyquackkfucom', 'paul', 'harvey', 'apr', 'promis', 'psalm', 'articl', 'psyrobtwubvmsbccbuffaloedu', 'robert', 'weiss', 'hear', 'lord', 'speak', 'peac', 'unto', 'saint', 'let', 'turn', 'folli', 'leader', 'favor', 'land', 'restor', 'fortun', 'forgiv', 'iniqu', 'anger', 'away', 'angri', 'forev', 'generat', 'sure', 'may', 'rejoic', 'show', 'faith', 'grant', 'one', 'help', 'veri', 'near', 'fear', 'make', 'glori', 'dwell', 'truth', 'meet', 'justic', 'spring', 'earth', 'heaven', 'yield', 'produc', 'goe', 'befor', 'set', 'way', 'david', 'r', 'sacco', 'dsavandrewcmuedu', 'spread', 'christian', 'extremist', 'kill', 'doctor', 'snide', 'must', 'conveni', 'maliabl', 'suitabl', 'occass', 'sinc', 'take', 'want', 'follow', 'whichev', 'bit', 'pleas', 'reinterpret', 'match', 'desir', 'fact', 'capabl', 'might', 'brand', 'difficulti', 'left', 'cours', 'pick', 'sect', 'join', 'dean', 'kaflowitz', 'yes', 'teach', 'jesus', 'christ', 'ten', 'command', 'tri', 'love', 'hate', 'world', 'cheek', 'burdensom', 'time', 'dave', 'among', 'feel', 'life', 'joke', 'bob', 'never', 'interfer', 'educ', 'mark', 'death', 'great', 'get', 'across', 'without', 'stab', 'someon', 'say', 'mean', 'understood', 'happi', 'everi', 'day', 'wouldnt', 'human', 'youd', 'game', 'host', 'taken', 'movi', 'joslinpogoisppittedu', 'joslin', 'food', 'thought', 'tyre', 'afyfnysuedu', 'frank', 'decenso', 'jr', 'give', 'clue', 'enough', 'substanc', 'ask', 'lot', 'question', 'though', 'worri', 'im', 'inerrantist', 'readi', 'serious', 'dj', 'steve', 'boylan', 'biblic', 'demon', 'swaimowlnetriceedu', 'michael', 'park', 'swaim', 'file', 'permiss', 'beast', 'sorri', 'home', 'hey', 'depend', 'system', 'access', 'polici', 'total', 'user', 'mar', 'root', 'minut', 'mv', 'usrusersbeastprofil', 'echo', 'mailrc', 'mail', 'wait', 'final', 'made', 'mistak', 'check', 'run', 'miss', 'th', 'new', 'england', 'folk', 'april', 'devil', 'reveal', 'puzzl', 'concept', 'adam', 'eve', 'come', 'evil', 'resolv', 'within', 'action', 'equal', 'opposit', 'reaction', 'issu', 'allegi', 'whi', 'even', 'state', 'perform', 'act', 'submit', 'doe', 'place', 'account', 'rom', 'deed', 'book', 'control', 'still', 'tell', 'man', 'real', 'virus', 'possess', 'keep', 'em', 'becom', 'emphasi', 'matter', 'cant', 'burn', 'rape', 'wise', 'rise', 'els', 'explain', 'five', 'hundr', 'year', 'histori', 'invok', 'knock', 'got', 'understand', 'youv', 'live', 'walk', 'right', 'sit', 'ill', 'play', 'clown', 'low', 'yah', 'ive', 'brother', 'stone', 'woe', 'hung', 'tree', 'doesnt', 'honest', 'somewher', 'lay', 'head', 'beat', 'stiff', 'neck', 'fool', 'cool', 'deni', 'gone', 'long', 'vaniti', 'wrong', 'interpret', 'vain', 'imagin', 'jah', 'sun', 'moon', 'star', 'fantasi', 'yeah', 'lip', 'righteous', 'die', 'wisdom', 'rich', 'citi', 'holi', 'destruct', 'poor', 'soul', 'rule', 'ya', 'thing', 'oh', 'move', 'danc', 'joy', 'togeth', 'everyon', 'theyr', 'best', 'remind', 'wall', 'true', 'babylon', 'gonna', 'fall', 'saw', 'angel', 'seven', 'seal', 'throne', 'imaginari', 'ohar', 'sound', 'realli', 'cute', 'kind', 'pete', 'mayb', 'smaller', 'differ', 'speci', 'wing', 'fun', 'sort', 'grew', 'child', 'part', 'older', 'pretti', 'common', 'read', 'non', 'hot', 'stand', 'silent', 'bad', 'list', 'post', 'field', 'philosophi', 'multipl', 'fiction', 'work', 'thank', 'bunch', 'librari', 'topic', 'search', 'thru', 'william', 'contradict', 'bluecispittedu', 'delet', 'anyon', 'origin', 'toss', 'quot', 'vers', 'cut', 'argu', 'inerr', 'find', 'fundi', 'josh', 'mcdowel', 'except', 'known', 'sens', 'embarrass', 'okay', 'cheap', 'shot', 'bill', 'x', 'number', 'alleg', 'said', 'valu', 'quantiti', 'qualiti', 'butler', 'proper', 'exeget', 'critic', 'popular', 'dr', 'norman', 'deal', 'wish', 'contend', 'answer', 'thousand', 'job', 'thyagicupportalcom', 'thyagi', 'morgoth', 'nagasiva', 'koresh', 'messian', 'cult', 'newspap', 'notic', 'name', 'id', 'email', 'normal', 'newsgroup', 'thyagihouseofkaosabysscom', 'l', 'cannib', 'albert', 'sabin', 'c', 'herb', 'huston', 'exampl', 'ritual', 'amongst', 'qualifi', 'instanc', 'particular', 'drink', 'use', 'symbol', 'cultur', 'type', 'eat', 'repres', 'bodi', 'thus', 'absenc', 'tribe', 'brain', 'oppon', 'sometim', 'contain', 'agent', 'lead', 'call', 'govern', 'case', 'drop', 'anyway', 'much', 'western', 'civilis', 'proof', 'posit', 'advanc', 'would', 'often', 'ceremoni', 'deceas', 'aliv', 'includ', 'american', 'flesh', 'enemi', 'respect', 'depart', 'heart', 'spirit', 'ever', 'seen', 'boy', 'team', 'order', 'surviv', 'finger', 'episod', 'serv', 'info', 'start', 'send', 'dan', 'alex', 'hall', 'math', 'anyth', 'fit', 'neat', 'someth', 'everyth', 'tune', 'º', 'hut', 'smoke', 'pink', 'curious', 'zoroastrian', 'san', 'jose', 'news', 'ca', 'usa', 'mercuri', 'page', 'tradit', 'threaten', 'ancient', 'writer', 'high', 'abov', 'flame', 'leap', 'hour', 'templ', 'four', 'unit', 'dedic', 'prayer', 'bay', 'area', 'group', 'struggl', 'maintain', 'ident', 'strang', 'especi', 'concern', 'around', 'perhap', 'deep', 'comprehens', 'histor', 'site', 'less', 'old', 'persian', 'empir', 'king', 'cyrus', 'darius', 'born', 'later', 'honor', 'visit', 'three', 'priest', 'magi', 'scholar', 'key', 'belief', 'jew', 'muslim', 'trace', 'zoroast', 'prophet', 'yet', 'entir', 'minor', 'countri', 'mind', 'iron', 'local', 'almost', 'toler', 'persecut', 'benign', 'caus', 'young', 'stop', 'themselv', 'actual', 'notion', 'win', 'convert', 'children', 'rather', 'larg', 'import', 'came', 'india', 'everybodi', 'major', 'communiti', 'back', 'proud', 'seek', 'anim', 'sacrific', 'preach', 'ahura', 'mazda', 'translat', 'light', 'vs', 'constant', 'eventu', 'men', 'women', 'battl', 'warn', 'suffer', 'consequ', 'shame', 'honesti', 'chariti', 'environ', 'hard', 'basic', 'virtu', 'unusu', 'blind', 'demand', 'joseph', 'campbel', 'famous', 'myth', 'individu', 'word', 'motto', 'glass', 'window', 'sacr', 'fire', 'mount', 'hamilton', 'surpris', 'conting', 'arriv', 'ninth', 'centuri', 'escap', 'iran', 'claim', 'percent', 'overal', 'half', 'studi', 'fundamentalist', 'islam', 'pride', 'improv', 'inhabit', 'becaus', 'pass', 'chief', 'mother', 'york', 'exist', 'decis', 'iranian', 'late', 'buy', 'six', 'north', 'america', 'besid', 'road', 'paid', 'gift', 'rais', 'money', 'build', 'properti', 'alreadi', 'hous', 'center', 'ago', 'simpl', 'structur', 'white', 'floor', 'partial', 'cover', 'huge', 'orient', 'central', 'middl', 'although', 'worshipp', 'concentr', 'cross', 'biggest', 'celebr', 'occur', 'earli', 'begin', 'combin', 'secular', 'creat', 'christma', 'worship', 'revel', 'member', 'prove', 'insid', 'fill', 'stood', 'edg', 'room', 'tabl', 'milk', 'water', 'fruit', 'nut', 'kid', 'crowd', 'hand', 'treat', 'particip', 'santa', 'claus', 'gather', 'style', 'flow', 'hair', 'bag', 'wore', 'green', 'red', 'john', 'becam', 'busi', 'trip', 'procedur', 'result', 'allow', 'whenev', 'heard', 'lower', 'end', 'bskendignetcomcom', 'brian', 'kendig', 'purpos', 'argument', 'length', 'agre', 'reason', 'whatsoev', 'describ', 'realiti', 'perfect', 'predict', 'happen', 'carri', 'meaning', 'convers', 'concret', 'evid', 'hope', 'specif', 'bring', 'genesi', 'two', 'contradictori', 'creation', 'usual', 'blank', 'stare', 'flat', 'denial', 'acknowledg', 'inde', 'je', 'ne', 'sui', 'fait', 'comm', 'aucun', 'de', 'ceux', 'que', 'jai', 'vus', 'croir', 'netr', 'qui', 'si', 'vaux', 'pas', 'mieux', 'au', 'moin', 'autr', 'rousseau', 'bhagavadgita', 'kalki', 'discuss', 'veda', 'knowledg', 'therefor', 'newag', 'standard', 'current', 'experienc', 'thorough', 'isnt', 'interest', 'jewish', 'incred', 'torah', 'ancestor', 'abraham', 'sent', 'east', 'china', 'gave', 'comment', 'scriptur', 'occult', 'art', 'rest', 'assur', 'isaac', 'remain', 'inherit', 'judaism', 'mistaken', 'practic', 'error', 'idol', 'extent', 'manner', 'content', 'care', 'leav', 'violent', 'natur', 'preclud', 'typic', 'vedic', 'materi', 'power', 'opul', 'refer', 'sourc', 'kingdom', 'respons', 'plain', 'selfish', 'fellow', 'dare', 'presum', 'selfright', 'ego', 'garbag', 'buddhist', 'slander', 'complet', 'descript', 'exact', 'direct', 'present', 'evangelist', 'simpli', 'perspect', 'wed', 'enjoy', 'laugh', 'expens', 'thief', 'mine', 'fals', 'mystic', 'avoid', 'contact', 'owner', 'explan', 'lie', 'liar', 'expect', 'pay', 'attent', 'merci', 'servant', 'etern', 'henc', 'unwant', 'continu', 'broadcast', 'bobsarvmicrosoftcom', 'sarver', 'moral', 'inflict', 'pain', 'noth', 'gross', 'bizarr', 'disgust', 'hudson', 'whether', 'hurt', 'perman', 'damag', 'none', 'logic', 'ok', 'camp', 'save', 'author', 'abl', 'need', 'observ', 'trust', 'permit', 'forc', 'awar', 'arrog', 'bullshit', 'brought', 'war', 'knew', 'better', 'cannot', 'arent', 'indic', 'along', 'intellig', 'inconsist', 'admit', 'correct', 'form', 'necessari', 'level', 'recogn', 'sentient', 'appreci', 'violat', 'big', 'relat', 'digniti', 'stuff', 'core', 'disagr', 'primit', 'absolutist', 'lover', 'learn', 'fine', 'definit', 'crazi', 'involv', 'free', 'littl', 'premis', 'deriv', 'patent', 'statement', 'selfawar', 'demonstr', 'requir', 'bold', 'suggest', 'experi', 'motiv', 'product', 'societi', 'screw', 'defin', 'social', 'behavior', 'trash', 'gain', 'benefit', 'somehow', 'shoot', 'foot', 'resourc', 'irrat', 'atom', 'wonder', 'execut', 'idea', 'prevent', 'spot', 'affect', 'charact', 'novel', 'crime', 'punish', 'woman', 'establish', 'contribut', 'profit', 'collect', 'intern', 'consist', 'justifi', 'appli', 'unwil', 'behav', 'suppos', 'freshman', 'court', 'talent', 'slight', 'chanc', 'oper', 'pure', 'leg', 'front', 'intent', 'appar', 'problem', 'analog', 'address', 'goal', 'ultim', 'chemic', 'appear', 'hold', 'absolut', 'reject', 'danger', 'sky', 'put', 'test', 'general', 'distinct', 'enforc', 'upon', 'otherwis', 'intellectu', 'basi', 'resist', 'viewpoint', 'jump', 'stupid', 'disput', 'stretch', 'onc', 'degener', 'suffici', 'oppos', 'relativ', 'obvious', 'advoc', 'whose', 'choos', 'disagre', 'chosen', 'base', 'abandon', 'xtianiti', 'etc', 'reli', 'principl', 'certain', 'doubl', 'interact', 'guid', 'daili', 'affair', 'conduct', 'toward', 'sprout', 'effect', 'didnt', 'criteria', 'entertain', 'race', 'ordinari', 'print', 'ad', 'wont', 'relev', 'talk', 'hudsonathenacsugaedu', 'worst', 'chapter', 'text', 'link', 'aprmidwayuchicagoedu', 'note', 'probabl', 'worth', 'condemn', 'roman', 'pray', 'poster', 'consum', 'miser', 'situat', 'socal', 'outsid', 'unfortun', 'modern', 'inferior', 'superior', 'huh', 'overwhelm', 'innoc', 'ps', 'request', 'copi', 'trm', 'regular', 'ny', 'roof', 'garden', 'nice', 'black', 'pythagorean', 'reform', 'church', 'repent', 'bbs', 'hal', 'lds', 'kermit', 'repli', 'toni', 'rose', 'mormon', 'wrote', 'nicen', 'creed', 'mr', 'task', 'doctrin', 'declar', 'status', 'inspir', 'debat', 'professor', 'english', 'brigham', 'review', 'section', 'magazin', 'edit', 'conclud', 'sermon', 'label', 'term', 'conserv', 'nonchristian', 'tempt', 'draw', 'circl', 'exclud', 'characterist', 'exclus', 'ourselv', 'ideal', 'decid', 'orthodox', 'orthodoxi', 'abil', 'uncondit', 'famili', 'spent', 'bookstor', 'california', 'servic', 'excel', 'custom', 'offer', 'commentari', 'sentiment', 'space', 'given', 'attack', 'polit', 'devot', 'satan', 'found', 'maker', 'absurd', 'techniqu', 'accus', 'nazi', 'genuin', 'redempt', 'lack', 'anxieti', 'engag', 'increas', 'threat', 'ironi', 'restrict', 'audienc', 'subscrib', 'grace', 'arm', 'exercis', 'authorit', 'profess', 'implic', 'mainstream', 'voic', 'bias', 'research', 'mixtur', 'tool', 'disprov', 'discredit', 'fair', 'least', 'share', 'adult', 'therebi', 'sign', 'dlecointgarnetacnsfsuedu', 'dariuslecoint', 'discount', 'sunday', 'substitut', 'sabbath', 'ye', 'shall', 'receiv', 'full', 'apart', 'fabric', 'nation', 'strip', 'drawn', 'son', 'magic', 'went', 'wear', 'brown', 'gentil', 'fallaci', 'psyrobtwubvmsccbuffaloedu', 'ron', 'quit', 'davidterminusericssons', 'atheist', 'embrac', 'mankind', 'contrari', 'sensibl', 'code', 'behind', 'israel', 'strict', 'civil', 'judici', 'law', 'clear', 'dilemma', 'divers', 'opinion', 'judeochristian', 'written', 'heret', 'agnost', 'modifi', 'impli', 'altern', 'philosoph', 'done', 'whatev', 'drive', 'aspect', 'sea', 'fish', 'cri', 'swam', 'fragment', 'primari', 'provok', 'polar', 'provid', 'rebellion', 'st', 'fourth', 'eastern', 'ie', 'pictur', 'obtain', 'conscious', 'harmoni', 'relationship', 'creator', 'disobey', 'immedi', 'guilt', 'manifest', 'bound', 'destroy', 'bliss', 'idiot', 'achiev', 'confront', 'integr', 'reconcil', 'possibl', 'essenc', 'energi', 'apostl', 'precis', 'thou', 'shalt', 'epunledu', 'edgar', 'pearlstein', 'rememb', 'asid', 'literari', 'strong', 'narrat', 'virtual', 'nonexist', 'network', 'last', 'remark', 'commiss', 'sleep', 'daddi', 'murder', 'sinner', 'program', 'missionari', 'militari', 'aw', 'caldwellfacmanohsuedu', 'larri', 'caldwel', 'resurrect', 'determin', 'element', 'egyptian', 'caldwellohsuedu', 'compuserv', 'oregon', 'health', 'scienc', 'adfreenetcarletonca', 'jame', 'owen', 'advis', 'resolut', 'guarante', 'aid', 'dure', 'saddam', 'rant', 'ontario', 'canada', 'lanc', 'unlik', 'sex', 'emot', 'parent', 'hesh', 'dislik', 'harm', 'self', 'buri', 'juda', 'usenet', 'board', 'chang', 'davebpogowvtekcom', 'talkreligionmisc', 'date', 'coupl', 'insult', 'db', 'index', 'bauerarndtgingrich', 'greek', 'lexicon', 'klero', 'chorion', 'archer', 'nowher', 'dictionari', 'testament', 'bromley', 'burial', 'plot', 'eg', 'various', 'dump', 'fri', 'owe', 'apolog', 'habit', 'submiss', 'handl', 'confus', 'second', 'report', 'nuanc', 'dissemin', 'vari', 'nobl', 'bulling', 'ridicul', 'exegisi', 'exegesi', 'convinc', 'dear', 'benefici', 'unless', 'necessarili', 'respond', 'specifi', 'hide', 'mask', 'student', 'alik', 'distinguish', 'hypocrit', 'passag', 'superfici', 'deeper', 'glad', 'depth', 'appropri', 'b', 'parallel', 'pertin', 'context', 'e', 'f', 'g', 'h', 'j', 'construct', 'k', 'hebrew', 'empti', 'count', 'mouth', 'plan', 'analysi', 'bush', 'matthew', 'beyond', 'herring', 'defens', 'reward', 'piec', 'silver', 'valiant', 'attempt', 'expand', 'scholarship', 'hang', 'headlong', 'burst', 'travel', 'discrep', 'peter', 'fell', 'impact', 'neither', 'reconstruct', 'overlook', 'valley', 'hinnom', 'ledg', 'process', 'examin', 'bottom', 'rocki', 'feet', 'height', 'pavement', 'easi', 'struck', 'jag', 'rock', 'tear', 'loui', 'pull', 'took', 'commit', 'suicid', 'tall', 'mere', 'havent', 'imposs', 'earlier', 'version', 'heavi', 'assum', 'truli', 'tactic', 'credibl', 'deem', 'shown', 'luke', 'misinform', 'threw', 'purchas', 'agenc', 'investig', 'abus', 'neglect', 'today', 'crack', 'fail', 'success', 'beg', 'night', 'listen', 'institut', 'familiar', 'compar', 'synonym', 'ot', 'outcom', 'age', 'document', 'discov', 'alon', 'fatal', 'valid', 'deceiv', 'side', 'decept', 'volum', 'publish', 'harper', 'approach', 'matt', 'oneself', 'occurr', 'septuagint', 'samuel', 'ahithophel', 'advic', 'aros', 'father', 'add', 'doubt', 'failur', 'welcom', 'reput', 'insist', 'regard', 'mat', 'price', 'blood', 'consult', 'bought', 'potter', 'stranger', 'gush', 'detail', 'speech', 'dead', 'betray', 'wage', 'offic', 'graphic', 'line', 'incid', 'record', 'plausibl', 'hit', 'longer', 'initi', 'ignor', 'explod', 'branch', 'broke', 'surfac', 'victim', 'roll', 'bounc', 'comfort', 'prophesi', 'arrest', 'midst', 'discipl', 'twenti', 'fulfil', 'spoke', 'ministri', 'jerusalem', 'languag', 'box', 'feast', 'per', 'se', 'accord', 'unequivoc', 'instead', 'limit', 'adulteri', 'altath', 'week', 'dishonest', 'incompet', 'felt', 'tough', 'compet', 'render', 'robinson', 'concord', 'region', 'estat', 'similar', 'grave', 'worthless', 'expert', 'wit', 'support', 'agro', 'signific', 'silli', 'small', 'compel', 'close', 'crucifixion', 'spite', 'apacgw', 'denot', 'strangl', 'guy', 'liter', 'literatur', 'messag', 'implicit', 'regardless', 'repeat', 'assert', 'contriv', 'inappropri', 'locat', 'passov', 'next', 'couldnt', 'card', 'crucifi', 'friday', 'saturday', 'inquiri', 'admiss', 'rate', 'patrick', 'aprmnemosynecsduedu', 'thread', 'theme', 'memori', 'bless', 'rd', 'south', 'n', 'phone', 'flash', 'weve', 'jmerittmentalmitreorg', 'jer', 'saith', 'piti', 'spare', 'flourish', 'isa', 'griffen', 'hes', 'scum', 'chose', 'prefer', 'birth', 'assist', 'intend', 'citizen', 'straight', 'slightest', 'decent', 'wife', 'unborn', 'releas', 'burden', 'grow', 'trade', 'suprem', 'hell', 'throw', 'guess', 'benevol', 'sight', 'media', 'sell', 'husband', 'greatest', 'justif', 'corrupt', 'soon', 'horribl', 'reach', 'revolt', 'dread', 'guilti', 'desper', 'susan', 'anthoni', 'hors', 'neighbor', 'ride', 'manuscript', 'announc', 'bet', 'fifth', 'fight', 'jim', 'skinner', 'agreement', 'mmwunixmitreorg', 'meritt', 'induct', 'tice', 'avail', 'phrase', 'kingctroncom', 'oxymoron', 'andrew', 'third', 'popul', 'model', 'coincident', 'nevertheless', 'jack', 'object', 'v', 'scientif', 'accuraci', 'ta', 'scope', 'frankdsuucp', 'odwyer', 'round', 'equat', 'pattern', 'percept', 'propos', 'applic', 'accur', 'theori', 'tarot', 'period', 'token', 'rebuilt', 'net', 'villag', 'sidon', 'seat', 'built', 'wine', 'chines', 'crusad', 'held', 'tire', 'lebanon', 'isra', 'map', 'figur', 'dozen', 'martin', 'feder', 'divis', 'congress', 'thoma', 'rang', 'latter', 'onehors', 'town', 'connect', 'car', 'encyclopedia', 'pop', 'surround', 'egypt', 'bce', 'seleucid', 'rome', 'arab', 'ce', 'subsequ', 'singl', 'domin', 'autonomi', 'bc', 'seri', 'coin', 'gold', 'character', 'apologist', 'sentenc', 'defend', 'propheci', 'anywher', 'conclus', 'odd', 'richbellaceraamailamdahlcom', 'exgay', 'propaganda', 'blatant', 'agenda', 'imag', 'portray', 'wide', 'activ', 'distribut', 'naiv', 'fulli', 'testimoni', 'thier', 'innat', 'abolitionist', 'affirm', 'wild', 'misrepresent', 'perpetr', 'remov', 'mental', 'exodus', 'anonym', 'founder', 'homo', 'caligiuri', 'award', 'lust', 'director', 'deserv', 'eight', 'movement', 'ha', 'ex', 'effort', 'courag', 'organ', 'bornagain', 'suppress', 'urg', 'davi', 'anybodi', 'wast', 'redeem', 'wound', 'loos', 'assault', 'bar', 'recal', 'tie', 'morn', 'anymor', 'june', 'month', 'public', 'protest', 'promot', 'loud', 'blast', 'began', 'inform', 'radio', 'cathol', 'color', 'pastor', 'unabl', 'risk', 'numer', 'wasnt', 'confer', 'philadelphia', 'led', 'sick', 'door', 'ed', 'judgement', 'project', 'uniqu', 'despit', 'attitud', 'chris', 'presbyterian', 'lazarus', 'west', 'encourag', 'ethic', 'attend', 'disappoint', 'marri', 'heterosexu', 'conceal', 'meant', 'trap', 'cent', 'wive', 'marriag', 'option', 'sad', 'function', 'past', 'drug', 'recommend', 'sandviknewtonapplecom', 'kent', 'sandvik', 'alexand', 'sigh', 'cheer', 'alink', 'ksand', 'privat', 'brianlplarizonaedu', 'ceccarelli', 'cleans', 'taint', 'dark', 'fundament', 'aton', 'eye', 'leviticus', 'physic', 'taught', 'class', 'till', 'tomorrow', 'ray', 'fischer', 'plus', 'degre', 'moment', 'relativist', 'lock', 'proceed', 'negoti', 'compromis', 'amor', 'convict', 'nietzsch', 'followup', 'previous', 'dougla', 'therapi', 'promin', 'heal', 'portion', 'rank', 'inquisit', 'confess', 'tortur', 'oppress', 'africanamerican', 'slick', 'brainwash', 'stay', 'pressur', 'bondag', 'abolish', 'judg', 'conform', 'impos', 'daughter', 'firsthand', 'copyright', 'bomb', 'southern', 'explos', 'boat', 'armi', 'identifi', 'hostil', 'affili', 'terrorist', 'machin', 'gun', 'grenad', 'polic', 'uncov', 'hostag', 'offici', 'alley', 'al', 'mile', 'short', 'flee', 'extens', 'enter', 'irfan', 'alan', 'treatis', 'miracl', 'muhammad', 'droplet', 'vol', 'p', 'vast', 'ocean', 'miracul', 'quran', 'nineteenth', 'letter', 'allah', 'glorifi', 'prais', 'messeng', 'firm', 'unbeliev', 'bow', 'pleasur', 'face', 'sing', 'mission', 'prophethood', 'master', 'allknow', 'humankind', 'worthi', 'highest', 'testifi', 'obey', 'futur', 'bear', 'admir', 'pmyvivaldiaccvirginiaedu', 'yadlowski', 'driver', 'infant', 'detect', 'pre', 'express', 'technic', 'gist', 'tentat', 'troubl', 'contenti', 'rough', 'role', 'eric', 'dynam', 'associ', 'frequenc', 'difficult', 'freud', 'lectur', 'systemkalkilakestrentonscus', 'attach', 'fix', 'temporari', 'forget', 'hare', 'krishna', 'rama', 'stick', 'main', 'unknow', 'yep', 'coven', 'yhwh', 'mose', 'boundari', 'wherea', 'pharise', 'specul', 'press', 'upset', 'appl', 'foundat', 'utter', 'historian', 'wors', 'debunk', 'inher', 'metaphys', 'undoubt', 'swear', 'trooper', 'emarshhernessunengsuncom', 'marsh', 'measur', 'scalar', 'equival', 'merit', 'worthwhil', 'calcul', 'usag', 'hatch', 'odwyerssei', 'hen', 'evelyn', 'conlon', 'admin', 'invis', 'spake', 'preserv', 'gen', 'hath', 'tim', 'hypocrisi', 'telepathi', 'btw', 'precognit', 'witch', 'youll', 'nope', 'prepar', 'kevxucunyvmbitnet', 'pat', 'robertson', 'coalit', 'spokesman', 'washington', 'design', 'parti', 'lose', 'convent', 'legal', 'communic', 'campaign', 'elwel', 'tom', 'ms', 'council', 'pizza', 'manag', 'membership', 'corpor', 'million', 'fund', 'rev', 'richard', 'keith', 'counsel', 'pope', 'street', 'allen', 'mari', 'separ', 'cast', 'replac', 'constitut', 'simon', 'mode', 'paradis', 'fax', 'ekrkyleeitechcom', 'rescorla', 'kmrpocwruedu', 'ryan', 'push', 'ekr', 'ekreitechcom', 'ear', 'nt', 'sandviksandvikkentapplecom', 'realm', 'des', 'prejudic', 'phenomenon', 'stephen', 'creationist', 'condon', 'preced', 'incorrect', 'assumpt', 'aprorganpipeuugarizonaedu', 'spell', 'background', 'lutheran', 'clarif', 'cmuiwaqcmailerccfsuedu', 'baptist', 'onlin', 'cd', 'cite', 'break', 'scientolog', 'brief', 'liberti', 'org', 'ursabearcom', 'halatpoohbear', 'halat', 'scientist', 'mathemat', 'frame', 'electron', 'bother', 'beer', 'chclevelandfreenetedu', 'alicea', 'rosicrucian', 'spinoff', 'oto', 'harder', 'rick', 'isscckbyuvmbitnet', 'anderson', 'ra', 'briefli', 'irrelev', 'independ', 'proclaim', 'selfproclaim', 'excus', 'persuad', 'erron', 'preacher', 'latterday', 'whos', 'consider', 'lucif', 'beauti', 'deliber', 'employ', 'belong', 'rebel', 'salvat', 'seed', 'tare', 'wick', 'illustr', 'lamb', 'obscur', 'w', 'thee', 'hast', 'concur', 'fashion', 'progress', 'mob', 'obfusc', 'hopscotch', 'bruce', 'mcconki', 'canon', 'controversi', 'heresi', 'priesthood', 'valuabl', 'summar', 'dogma', 'pen', 'casper', 'kni', 'isscckvmbyuedu', 'uc', 'facil', 'falsifi', 'proven', 'incorpor', 'mathewmantiscouk', 'mathew', 'liveseysolntzewpdsgicom', 'jon', 'livesey', 'terribl', 'fed', 'cattl', 'bank', 'loan', 'ought', 'theyv', 'shit', 'abort', 'fetus', 'medicin', 'einstein', 'bohr', 'lsd', 'abstract', 'strive', 'gas', 'string', 'theist', 'secret', 'suspect', 'glimps', 'falsehood', 'conflict', 'fake', 'step', 'atheism', 'softwar', 'aprraroyalroadsca', 'mleepostroyalroadsca', 'malcolm', 'lee', 'antisemit', 'sole', 'select', 'mass', 'undesir', 'melt', 'hunt', 'kcochrannyxcsduedu', 'cochran', 'deanebinahccbrandeisedu', 'heck', 'gene', 'smith', 'popecbrewichhoutxus', 'charl', 'rhoemer', 'uniform', 'roehm', 'hitler', 'swastika', 'credit', 'flag', 'purg', 'germani', 'scandal', 'knive', 'impress', 'sa', 'hein', 'tsakc', 'fault', 'paraphras', 'cornelius', 'andi', 'protein', 'shouldnt', 'random', 'clarifi', 'assembl', 'u', 'gee', 'supernatur', 'quick', 'strength', 'shine', 'aka', 'smallest', 'scott', 'paper', 'violenc', 'via', 'nyikosmathscarolinaedu', 'nyiko', 'yesterday', 'titl', 'termin', 'challeng', 'revis', 'alamutnetcomcom', 'max', 'delysid', 'amorc', 'spin', 'dickeneyaccessdigexcom', 'dick', 'eney', 'pagan', 'rotat', 'classic', 'engin', 'settl', 'diccon', 'frankborn', 'german', 'prussian', 'song', 'pretext', 'data', 'storm', 'templar', 'wilt', 'encompass', 'vision', 'confin', 'beta', 'frater', 'extrem', 'reuss', 'extend', 'kellner', 'mason', 'ordo', 'templi', 'orienti', 'met', 'instruct', 'develop', 'prior', 'succeed', 'outer', 'oho', 'masonri', 'golden', 'dawn', 'introduc', 'charter', 'rite', 'leadership', 'franc', 'spencer', 'lewi', 'crowley', 'magick', 'appoint', 'equinox', 'stroke', 'split', 'deepli', 'introduct', 'iii', 'rex', 'thelema', 'forth', 'complex', 'larger', 'apprehend', 'soft', 'aris', 'sf', 'tast', 'relay', 'rfoxcharlieusdedu', 'fox', 'univ', 'dakota', 'aprramboatlantadgcom', 'wpratlantadgcom', 'rawlin', 'dialogu', 'necess', 'theologian', 'hypothesi', 'misunderstand', 'intellect', 'creatur', 'fanci', 'amh', 'touch', 'billion', 'superced', 'confirm', 'infer', 'koran', 'josephus', 'insert', 'anthro', 'usouthdakota', 'bzawutarlgutaedu', 'ks', 'adher', 'reckon', 'ongo', 'dobb', 'top', 'dog', 'el', 'con', 'paradox', 'aint', 'fanat', 'devote', 'messiah', 'pile', 'complaint', 'firstcenturi', 'wellknown', 'wellunderstood', 'addit', 'gospel', 'chip', 'literalist', 'trustworthi', 'elsewher', 'disappear', 'meaningless', 'legitim', 'evolutionari', 'moreov', 'virgin', 'constru', 'mirror', 'wave', 'kevinrotagmiorg', 'kevin', 'darci', 'noon', 'phenomena', 'ontolog', 'talkabort', 'cobbalexialisuiucedu', 'mike', 'cobb', 'minimum', 'oblig', 'relabel', 'attract', 'appeal', 'exhibit', 'easili', 'scene', 'terror', 'due', 'rc', 'rosa', 'cruci', 'fellowship', 'pretend', 'descend', 'splinter', 'europ', 'lectorium', 'freemason', 'orc', 'alizardtweekcouucp', 'alizard', 'amount', 'internet', 'bang', 'path', 'backup', 'bamrcnextcsouiucedu', 'ba', 'davishow', 'inner', 'rosea', 'rubea', 'et', 'aura', 'rosicrucianum', 'sake', 'reflect', 'fratern', 'thinker', 'glorious', 'satisfi', 'consensus', 'spoken', 'ruler', 'bare', 'fraud', 'attribut', 'crosspost', 'talkorigin', 'paranoid', 'lippard', 'weak', 'antiqu', 'alter', 'origen', 'amus', 'jay', 'australia', 'charg', 'ah', 'plant', 'homework', 'conspiraci', 'disturb', 'nasti', 'irv', 'academ', 'hereaft', 'ezra', 'iota', 'dot', 'accomplish', 'whoever', 'relax', 'bind', 'primarili', 'radic', 'theoret', 'categori', 'emphas', 'cup', 'clean', 'special', 'merlin', 'mithra', 'rutherford', 'bull', 'nake', 'pit', 'scaffold', 'mithraic', 'communion', 'meal', 'consecr', 'bread', 'scoff', 'protect', 'discrimin', 'lost', 'greater', 'unpopular', 'slave', 'tragic', 'funni', 'legisl', 'colorado', 'underground', 'massacr', 'propon', 'hatr', 'flaw', 'condit', 'outward', 'coerc', 'crimin', 'amend', 'fagfre', 'negat', 'bullwhip', 'discord', 'deuteronomi', 'damsel', 'betroth', 'werent', 'walter', 'endors', 'xian', 'circumst', 'sieferman', 'pole', 'wash', 'mithraist', 'netland', 'devis', 'reserv', 'endang', 'jason', 'compani', 'wordperfect', 'utah', 'dust', 'insuffici', 'israelit', 'expressli', 'outright', 'cold', 'mysteri', 'persuas', 'jesuss', 'proclam', 'botch', 'saviour', 'animos', 'twist', 'bumbl', 'loop', 'outofcontext', 'await', 'breath', 'ahead', 'dale', 'skiba', 'babi', 'unbias', 'reader', 'bogus', 'imparti', 'imho', 'tend', 'hs', 'rub', 'petri', 'influenc', 'fostermtechcamaintechcom', 'ass', 'qevbhhvagateberkeleyedu', 'dzkrizocfberkeleyedu', 'denni', 'kriz', 'quotat', 'instrument', 'vehicl', 'sadden', 'evangel', 'gt', 'intrus', 'overbear', 'solomon', 'erotica', 'incompat', 'journal', 'entri', 'ring', 'ii', 'aim', 'pornographi', 'enorm', 'crap', 'ration', 'sincer', 'hmm', 'isaiah', 'refus', 'shake', 'wherebi', 'nd', 'mighti', 'everlast', 'presenc', 'kinda', 'ephesian', 'gmt', 'barney', 'nunnallyacshardingedu', 'nunnal', 'bottl', 'galatian', 'throughout', 'reduc', 'liabl', 'elimin', 'petit', 'dc', 'mlspanixcom', 'siemon', 'mlsulyssesattcom', 'metaeth', 'turpincsutexasedu', 'russel', 'turpin', 'therein', 'gentl', 'intoler', 'nonbeliev', 'inquisitor', 'sequenc', 'allud', 'rhetor', 'baggag', 'grand', 'ghost', 'attorney', 'potenti', 'refug', 'entitl', 'cf', 'ff', 'nonetheless', 'manipul', 'differenti', 'goo', 'eager', 'critiqu', 'agap', 'allelou', 'ugli', 'myriad', 'princ', 'psyrobtwubvmsdccbuffaloedu', 'thi', 'ezekiel', 'adopt', 'baptism', 'abod', 'ceas', 'pervert', 'air', 'disobedi', 'whosoev', 'loveth', 'behold', 'begotten', 'jehovah', 'deiti', 'mortal', 'baptiz', 'forward', 'closest', 'visibl', 'sand', 'thirti', 'royal', 'hermet', 'brotherhood', 'parabl', 'lodg', 'cupportalcom', 'tv', 'adventur', 'dramat', 'offend', 'medit', 'arjuna', 'dualiti', 'transcendent', 'plane', 'entiti', 'finish', 'offens', 'evolut', 'jburrillboihpcom', 'burril', 'eyewit', 'pe', 'majesti', 'mountain', 'warrant', 'davidian', 'compass', 'bds', 'annoy', 'adventist', 'devout', 'dictat', 'sympath', 'waco', 'shoulder', 'rob', 'lanphier', 'lanphuidahoedu', 'neonazi', 'supremist', 'classifi', 'netdsusiesbccom', 'tape', 'enclos', 'aprutarlgutaedu', 'solid', 'manson', 'tremend', 'martyr', 'gotten', 'rotten', 'compound', 'philippian', 'freemasonri', 'qvlojusenetinscwruedu', 'conven', 'holli', 'antimason', 'carrier', 'md', 'presid', 'inc', 'tx', 'drivel', 'uniti', 'relig', 'scare', 'shade', 'charli', 'uncl', 'wolf', 'cdcolvinrahulnet', 'christoph', 'colvin', 'pend', 'po', 'forgiven', 'kept', 'taylor', 'fbi', 'survivor', 'luther', 'humor', 'millenia', 'decay', 'easier', 'fli', 'joshuacpacwashingtonedu', 'joshua', 'geller', 'pegasusfpdialinuoregonedu', 'pegasusaaauoregonedu', 'orphaic', 'harrison', 'cambridg', 'compuservecom', 'expos', 'bug', 'shortcom', 'narrow', 'afraid', 'sunlight', 'theism', 'hike', 'presumpt', 'odin', 'zeus', 'fieri', 'fond', 'imperfect', 'sheep', 'zen', 'perish', 'sacrif', 'merlyn', 'format', 'silenc', 'dodg', 'amaz', 'screen', 'strawman', 'arromdeejyusenkyoucsjhuedu', 'ken', 'arromde', 'cultist', 'batf', 'noknock', 'concuss', 'disinterest', 'truelov', 'leftov', 'turkey', 'casserol', 'commerci', 'mtluagic', 'bait', 'cos', 'confid', 'watch', 'encount', 'surrend', 'quiet', 'wake', 'virginia', 'companion', 'keyboard', 'pmyvirginiaedu', 'basho', 'weapon', 'weaponri', 'cjclevelandfreenetedu', 'redelf', 'teeth', 'illeg', 'juri', 'tax', 'atf', 'texa', 'broken', 'mechan', 'patienc', 'clinton', 'reproduct', 'provis', 'iv', 'formul', 'sectarian', 'andor', 'pegasus', 'pack', 'orphic', 'judah', 'transmit', 'complic', 'proposit', 'conceiv', 'planet', 'muttiahthistleecnpurdueedu', 'ranjan', 'muttiah', 'tragedi', 'scratch', 'damn', 'latin', 'store', 'ram', 'varieti', 'favorit', 'display', 'untru', 'method', 'leroy', 'hisher', 'cliff', 'xcpslforyxcom', 'frog', 'regret', 'opportun', 'lesson', 'regist', 'torment', 'kendigian', 'melchizedek', 'mess', 'ground', 'bethlehem', 'laid', 'disillus', 'triniti', 'ascend', 'getaway', 'tomtredysvrtredydevunisyscom', 'albrecht', 'frustrat', 'bed', 'librbabyuvmbitnet', 'interview', 'horizon', 'cost', 'tower', 'dm', 'tao', 'bulhak', 'concurr', 'twice', 'scenario', 'goos', 'waddl', 'uncount', 'axe', 'gees', 'thrash', 'tm', 'paragraph', 'nyikosmilomathscarolinaedu', 'judgment', 'chronolog', 'sport', 'stream', 'incarn', 'damnat', 'reincarn', 'audibl', 'cycl', 'psychic', 'sri', 'eckankar', 'regress', 'dream', 'vacat', 'phobia', 'astral', 'higher', 'astrolog', 'biolog', 'hade', 'occupi', 'wind', 'thereof', 'clavazzinyxcsduedu', 'thedog', 'arsenal', 'dobbsapprov', 'conspiratortm', 'pm', 'fm', 'kilroygbororowanedu', 'nanci', 'summari', 'blame', 'nobodi', 'undeni', 'variat', 'glean', 'twelv', 'qed', 'spend', 'gerri', 'sneak', 'eschatolog', 'apocalypt', 'oracl', 'savior', 'saoshyant', 'etymolog', 'avestan', 'mede', 'median', 'herodotus', 'sixth', 'achaemenid', 'inscript', 'attest', 'maga', 'pahlavi', 'ecstat', 'avesta', 'sasanid', 'exposur', 'corps', 'asia', 'ant', 'nose', 'zarathushtra', 'persia', 'station', 'teacher', 'newborn', 'dualism', 'undergon', 'transform', 'angra', 'mainyu', 'furthermor', 'millennium', 'princip', 'gatha', 'aristotl', 'xanthus', 'hellenist', 'alchemi', 'frashokereti', 'splendid', 'lake', 'victori', 'astvatereta', 'immort', 'factor', 'buddha', 'somebodi', 'roycrbdcwsncorg', 'roy', 'crabtre', 'sword', 'automat', 'sponsor', 'speed', 'slaughter', 'stockpil', 'raid', 'video', 'bd', 'resort', 'fuel', 'divorc', 'la', 'closer', 'undu', 'griev', 'patient', 'balanc', 'tank', 'equip', 'aerosol', 'nonflamm', 'remot', 'blown', 'secondari', 'heat', 'temperatur', 'cor', 'pump', 'desert', 'mexico', 'sig', 'moslem', 'abid', 'spout', 'disbelief', 'yahweh', 'lighter', 'blow', 'deliv', 'soldier', 'benjamin', 'forsak', 'tensmey', 'rw', 'kt', 'prison', 'arguement', 'infern', 'bosom', 'sheol', 'ash', 'armageddon', 'drag', 'alexandria', 'insight', 'divid', 'rfd', 'misctaoism', 'aleph', 'null', 'mock', 'highway', 'distanc', 'truck', 'bk', 'fallen', 'hasnt', 'nero', 'shepherd', 'ir', 'programm', 'mitchel', 'kibolog', 'insur', 'coverag', 'premium', 'morri', 'grain', 'onto', 'obedi', 'earn', 'legend', 'filter', 'chain', 'lamont', 'coher', 'dlphknobcamelotbradleyedu', 'plead', 'methodist', 'nyjnlf', 'gb', 'gordon', 'altsexstori', 'motif', 'evalu', 'analyz', 'bandwidth', 'pornograph', 'catalog', 'alien', 'protagonist', 'averag', 'underneath', 'dimens', 'pregnanc', 'disclaim', 'amen', 'vagu', 'straightforward', 'extrachristian', 'thine', 'exalt', 'eze', 'sum', 'anoint', 'lift', 'bright', 'wmooreadscom', 'moor', 'ftp', 'bom', 'load', 'suspici', 'ceci', 'stem', 'stanc', 'influenti', 'dpwseicmuedu', 'wood', 'cocoanetcomcom', 'samaritan', 'skeptic', 'captiv', 'deceit', 'wow', 'mikecsaillabstekcom', 'kjv', 'flock', 'scari', 'graviti', 'suck', 'secur', 'rubbl', 'bullet', 'coron', 'hole', 'unifi', 'ssapmathsuwoca', 'asicunyvmbitnet', 'bday', 'dec', 'ahem', 'saturnalia', 'superstit', 'coterawoodsulowelledu', 'rjiesbctrisbccom', 'thibedeau', 'sp', 'spray', 'lantern', 'cote', 'scharlelukasiewiczccndedu', 'scharl', 'macroevolut', 'notr', 'dame', 'verifi', 'weird', 'salt', 'block', 'omnipot', 'connot', 'catalyst', 'eebquadsuchicagoedu', 'elizabeth', 'bartley', 'stevenadvtechuswestcom', 'novak', 'nonreligi', 'classmat', 'disrupt', 'flavor', 'safe', 'rare', 'elohim', 'joe', 'firey', 'perceiv', 'vantag', 'meanwhil', 'mt', 'obsolet', 'surpass', 'niv', 'expound', 'clearer', 'lawyer', 'modernday', 'colleg', 'enlighten', 'dk', 'risen', 'propan', 'elabor', 'gass', 'tag', 'psycholog', 'dismiss', 'resembl', 'cop', 'nelsonpapollohpcom', 'nelson', 'aprwoodsulowelledu', 'eh', 'suppli', 'accid', 'neglig', 'hadnt', 'tongu', 'rjlpittedu', 'loether', 'selv', 'snail', 'pittsburgh', 'pa', 'stun', 'contract', 'favour', 'soviet', 'kviastateedu', 'warren', 'vonroeschlaub', 'zero', 'kuo', 'suecid', 'contempl', 'foolish', 'armor', 'accident', 'intens', 'massiv', 'isaackuomathberkeleyedu', 'twinkl', 'missouri', 'postul', 'tbrentbankecnpurdueedu', 'timothi', 'brent', 'steer', 'commi', 'pars', 'electromagnet', 'radiat', 'toe', 'pp', 'cztjufkxnewscsouiucedu', 'maharishi', 'undecid', 'disbeliev', 'achill', 'heel', 'nomin', 'particl', 'quantum', 'experiment', 'stan', 'luc', 'heed', 'wacoread', 'emeri', 'circular', 'occas', 'reign', 'harass', 'ezek', 'infinit', 'lincoln', 'godless', 'russian', 'phil', 'consol', 'licens', 'apt', 'factual', 'jasonsatlastelecom', 'finit', 'reliabl', 'notwithstand', 'essay', 'joakimrifiuiono', 'joakim', 'ruud', 'desicion', 'indirect', 'analogu', 'behaviour', 'execution', 'solut', 'hmmmmmmmmmmmm', 'sarcasm', 'jokk', 'fore', 'voltair', 'bhagwan', 'mahesh', 'yogi', 'royc', 'trial', 'stronger', 'fgautjwccsvaxsfasuedu', 'parysccsuactstateuedu', 'gaut', 'eebmidwayuchicagoedu', 'vicious', 'pgfsrlcacsusledu', 'fraer', 'hoffer', 'agrcccamdahlcom', 'cruel', 'train', 'exuptrexuericssons', 'nontox', 'prospect', 'brave', 'willi', 'diego', 'isaackuoskippyberkeleyedu', 'competit', 'holster', 'blaze', 'strategi', 'badg', 'delus', 'silverio', 'shift', 'taoism', 'medic', 'trivial', 'meadow', 'imper', 'synopt', 'pose', 'strike', 'shut', 'bruis', 'horn', 'custodi', 'tutor', 'sham', 'nonsens', 'mecca', 'prescrib', 'impost', 'solar', 'dominion', 'global', 'heavier', 'zealot', 'plural', 'rlds', 'delight', 'rwdfpoeaccvirginiaedu', 'dobson', 'toxic', 'deliveri', 'fbiatf', 'cybel', 'goddess', 'atti', 'kaaba', 'bell', 'castrat', 'tale', 'cutterglosterviamindorg', 'yea', 'torch', 'carl', 'technolog', 'margoliwatsonibmcom', 'margoli', 'anthonylandreneauozoneholecom', 'lm', 'pregnant', 'jwmorrisnetcomcom', 'faster', 'veloc', 'mph', 'capit', 'watsonscecarletonca', 'watson', 'cotera', 'disast', 'thisopinion', 'blue', 'pacif', 'pacifist', 'nrpstandrewsacuk', 'paterson', 'alpha', 'asham', 'electr', 'salempangeastanfordedu', 'salem', 'kengtunfair', 'kengdenmmccom', 'garrido', 'lotsa', 'bgmiller', 'sieg', 'annoint', 'mythic', 'curv', 'carlsolgpscaltechedu', 'lydick', 'astronomi', 'vaxvm', 'colbybubiobuedu', 'colbi', 'athiest', 'franci', 'hitch', 'paleontologist', 'parker', 'afford', 'rebelli', 'explic', 'kettenr', 'european', 'faq', 'fc', 'rayengrlatechedu', 'bevancsmanacuk', 'bevan', 'singular', 'reciproc', 'sibyl', 'cnn', 'arama', 'tphsusiesbccom', 'henrion', 'boobtist', 'rifl', 'cfaehlvestaunmedu', 'faehl', 'egotist', 'weinstein', 'kibo', 'nametitl', 'firstborn', 'exod', 'sam', 'triun', 'adon', 'pronoun', 'heb', 'mic', 'feed', 'cometh', 'kin', 'inward', 'deut', 'premort', 'idolatri', 'puddl', 'tbrentecnpurdueedu', 'ap', 'stateoftheart', 'stern', 'splat', 'plung', 'markpelviswricom', 'pundur', 'wolfram', 'collaps', 'youth', 'discern', 'cosmic', 'yasna', 'labor', 'defect', 'benedikt', 'russottoengumdedu', 'russotto', 'steel', 'alloy', 'deform', 'wilson', 'sbuckleyfrasersfuca', 'buckley', 'elv', 'motion', 'physicist', 'koan', 'reindeer', 'retribut', 'taxpay', 'ktikkanephoenixoulufi', 'kari', 'tikkanen', 'upsilon', 'lambda', 'rams', 'amun', 'larsonian', 'astronom', 'astrophysicist', 'dewey', 'larson', 'vibrat', 'photon', 'galaxi', 'binari', 'dwarf', 'quasar', 'gammaray', 'super', 'collid', 'antimatt', 'orbit', 'acceler', 'hawk', 'uncharg', 'bledso', 'tibetan', 'eldridg', 'postscript', 'tartaro', 'gehenna']\n"
     ]
    }
   ],
   "source": []
  },
  {
   "cell_type": "code",
   "execution_count": 10,
   "metadata": {},
   "outputs": [],
   "source": [
    "vocab_specialword_prob =  [\n",
    "    {},{},{},{},{}, \n",
    "    {},{},{},{},{},\n",
    "    {},{},{},{},{}, \n",
    "    {},{},{},{},{},\n",
    "              ] #用来存储每个class中每个词所对应的“有该词的文档”在该类中的概率"
   ]
  },
  {
   "cell_type": "markdown",
   "metadata": {},
   "source": [
    "此处同样是对每个class下的每个文档文件进行操作，将每个文档中经筛选后剩下的词构成一个集合，因为集合元素的互异性，所以那些在一个文档中出现多次的词在集合中也就只是一个元素了，这是方便计算每个class所含有的总词数的，即是为了满足“每个词在其出现的文档中只计算一次”。接下来只要每个文档的集合中有元素能在之前所构建的对应vocab[key]中找到，那么vocab_deputy[key]中相应位置的值就加一。同时，该类下每个文档的关键词都被提取组成一个样本存入样本集test_before。（最终该样本集将会有18828个样本） 在以上过程中每个样本集关键词的个数也被计算并在其对应的class下求和，其所构建的len_label中将存有20个class的每个class的总词数（每个词在出现的文档中只计算一次）。"
   ]
  },
  {
   "cell_type": "code",
   "execution_count": 11,
   "metadata": {},
   "outputs": [
    {
     "name": "stdout",
     "output_type": "stream",
     "text": [
      "Wall time: 2min 1s\n"
     ]
    }
   ],
   "source": [
    "\n",
    "%%time\n",
    "len_label=[]\n",
    "test_before=\n",
    "for key in keys_labels:\n",
    "    dic_keys=list(vocab_deputy[key].keys())\n",
    "    text_path2=[]\n",
    "    num = 0\n",
    "    for path0 in os.listdir(labels[key]):\n",
    "        path1=labels[key]+\"/\"+path0\n",
    "        text_path2.append(path1)\n",
    "    \n",
    "    for lane in text_path2:\n",
    "        space=[]\n",
    "        f = open(lane,'rb')\n",
    "        data = f.read()\n",
    "        encode = chardet.detect(data)['encoding']\n",
    "        with codecs.open(lane, encoding=encode) as f:\n",
    "            lines=f.read()\n",
    "            for symbol in symbols:\n",
    "                 lines = lines.replace(symbol,'')\n",
    "            lines = lines.split()\n",
    "            lines = [line.strip('\\n') for line in lines]\n",
    "            lines=set(lines)  #集合元素具有互异性\n",
    "            for item in lines:\n",
    "                item = stm.stem(item)\n",
    "                if item in vocab[key]:\n",
    "                    vocab_deputy[key][item]+=1   #用来存储每个class中所含有的总词数（每个词在其出现的文档中只在该文档处计算一次）\n",
    "                    space.append(item)\n",
    "            num+=len(set(space))\n",
    "            space.insert(0,key)                  #在每个样本首位插入该样本所对应的class\n",
    "            test_before.append(space)            #存入每个文档的词袋以构造样本集\n",
    "            \n",
    "    len_label.append(num)                 "
   ]
  },
  {
   "cell_type": "markdown",
   "metadata": {},
   "source": [
    "\n",
    "\n",
    "这里随机打乱样本集，方便以后抽取部分作为测试。"
   ]
  },
  {
   "cell_type": "code",
   "execution_count": 12,
   "metadata": {},
   "outputs": [],
   "source": [
    "import random\n",
    "random.shuffle(test_before)   #打乱样本集"
   ]
  },
  {
   "cell_type": "code",
   "execution_count": 13,
   "metadata": {},
   "outputs": [
    {
     "name": "stdout",
     "output_type": "stream",
     "text": [
      "{'lipmanoasysdtnavymil': 2, 'robert': 51, 'lipman': 2, 'call': 137, 'present': 70, 'navi': 6, 'seminar': 10, 'scientif': 29, 'visual': 79, 'virtual': 47, 'realiti': 42, 'tuesday': 6, 'june': 9, 'carderock': 4, 'divis': 13, 'naval': 6, 'surfac': 79, 'warfar': 5, 'center': 60, 'former': 8, 'david': 52, 'taylor': 3, 'research': 83, 'bethesda': 4, 'maryland': 7, 'sponsor': 8, 'engin': 62, 'softwar': 186, 'system': 215, 'purpos': 43, 'exchang': 21, 'inform': 177, 'navyrel': 2, 'program': 349, 'develop': 94, 'applic': 99, 'aspect': 22, 'current': 110, 'work': 254, 'propos': 25, 'organ': 43, 'consid': 34, 'four': 26, 'type': 101, 'avail': 167, 'regular': 31, 'minut': 24, 'length': 14, 'short': 42, 'video': 114, 'standalon': 10, 'videotap': 7, 'author': 63, 'need': 348, 'demonstr': 20, 'accept': 41, 'publish': 45, 'ani': 455, 'proceed': 19, 'howev': 69, 'materi': 41, 'attende': 6, 'abstract': 15, 'submit': 18, 'one': 295, 'page': 55, 'andor': 29, 'code': 149, 'voic': 43, 'fax': 126, 'email': 264, 'includ': 149, 'affili': 6, 'address': 117, 'telephon': 16, 'number': 144, 'paper': 58, 'design': 80, 'point': 177, 'contact': 71, 'deadlin': 7, 'submiss': 10, 'april': 24, 'sent': 30, 'may': 107, 'reproduct': 4, 'must': 72, 'receiv': 34, 'abov': 63, 'pleas': 274, 'distribut': 59, 'wide': 29, 'possibl': 107, 'thank': 338, 'internet': 92, 'model': 110, 'comput': 302, 'signatur': 10, 'structur': 46, 'group': 155, 'sixth': 2, 'sick': 2, 'sheep': 5, 'graphic': 403, 'represent': 12, 'function': 76, 'gnuplot': 7, 'etc': 115, 'make': 195, 'easi': 45, 'plot': 45, 'real': 66, 'valu': 60, 'variabl': 15, 'want': 198, 'whose': 13, 'vector': 27, 'array': 18, 'arrow': 6, 'complet': 60, 'befor': 70, 'go': 154, 'thought': 32, 'would': 331, 'ask': 101, 'whether': 25, 'someon': 88, 'alreadi': 44, 'done': 50, 'pointer': 28, 'thanx': 24, 'advanc': 131, 'tom': 27, 'usenet': 27, 'depart': 32, 'philosophi': 7, 'offic': 23, 'san': 19, 'diego': 13, 'state': 47, 'univ': 17, 'home': 25, 'ca': 38, 'ryan': 11, 'dmorph': 4, 'articl': 288, 'n': 44, 'write': 447, 'tell': 81, 'ftp': 122, 'dta': 5, 'dmorf': 5, 'dave': 23, 'morph': 20, 'think': 174, 'mean': 90, 'tga': 25, 'assembl': 23, 'directori': 79, 'wuarchiv': 9, 'bundl': 12, 'respect': 14, 'version': 161, 'also': 217, 'find': 194, 'view': 92, 'creat': 120, 'download': 29, 'whole': 25, 'bunch': 5, 'last': 69, 'week': 63, 'away': 25, 'sinc': 100, 'programm': 40, 'bit': 198, 'buggi': 3, 'definit': 26, 'veri': 190, 'well': 134, 'written': 50, 'interfac': 59, 'first': 105, 'get': 274, 'onc': 37, 'figur': 27, 'trick': 19, 'notic': 28, 'crash': 13, 'tri': 172, 'without': 77, 'spline': 22, 'option': 45, 'sure': 88, 'whi': 82, 'dont': 223, 'sourc': 123, 'anyon': 275, 'els': 81, 'come': 93, 'hint': 15, 'thing': 121, 'right': 72, 'took': 16, 'sever': 59, 'hour': 14, 'time': 175, 'kenneth': 10, 'input': 39, 'vendor': 28, 'hello': 49, 'look': 351, 'add': 29, 'capabl': 50, 'user': 98, 'hp': 28, 'unix': 80, 'workstat': 64, 'great': 100, 'appreci': 119, 'care': 34, 'offer': 52, 'easili': 24, 'access': 65, 'environ': 50, 'name': 96, 'experi': 41, 'specif': 77, 'help': 292, 'respond': 21, 'via': 50, 'post': 197, 'summari': 30, 'suffici': 10, 'interest': 162, 'ken': 16, 'ps': 25, 'found': 79, 'impress': 17, 'ibm': 50, 'pcs': 23, 'like': 292, 'avoid': 21, 'hassl': 6, 'purchas': 21, 'maintain': 33, 'separ': 25, 'pc': 92, 'univers': 158, 'virginia': 4, 'laboratori': 21, 'joe': 11, 'sipp': 3, 'recent': 59, 'got': 94, 'describ': 45, 'librari': 126, 'render': 97, 'routin': 63, 'simpl': 70, 'polygon': 85, 'processor': 38, 'could': 199, 'newest': 7, 'around': 74, 'ive': 139, 'never': 42, 'renderman': 8, 'wonder': 52, 'ie': 59, 'andr': 16, 'million': 15, 'vs': 16, 'thousand': 12, 'color': 194, 'dhhdtekchalmerss': 2, 'henrik': 4, 'harmsen': 2, 'per': 52, 'rgb': 44, 'give': 103, 'machband': 3, 'visibl': 12, 'almost': 31, 'pictur': 89, 'colorgradi': 2, 'see': 136, 'small': 49, 'smooth': 23, 'even': 102, 'card': 107, 'gradient': 7, 'someth': 115, 'turn': 52, 'contrast': 12, 'monitor': 35, 'probabl': 57, 'attempt': 20, 'hes': 6, 'common': 37, 'correct': 60, 'mach': 5, 'band': 17, 'occur': 13, 'quantize': 19, 'enough': 52, 'human': 46, 'eye': 17, 'respons': 48, 'transit': 4, 'edg': 49, 'intens': 22, 'result': 92, 'near': 28, 'brighter': 3, 'side': 17, 'darker': 2, 'eric': 21, 'translat': 33, 'dxf': 22, 'hardwar': 61, 'across': 24, 'larg': 42, 'format': 196, 'databas': 40, 'mac': 89, 'repli': 52, 'alex': 7, 'languag': 47, 'everybodi': 8, 'pixar': 10, 'scene': 29, 'descript': 48, 'world': 49, 'im': 212, 'next': 41, 'document': 59, 'nextstep': 6, 'complic': 27, 'bring': 19, 'life': 32, 'appli': 34, 'shadow': 10, 'reflect': 18, 'far': 66, 'understand': 64, 'defin': 70, 'map': 94, 'produc': 38, 'know': 340, 'advis': 7, 'c': 145, 'exampl': 54, 'communic': 22, 'corpor': 22, 'mail': 107, 'jon': 10, 'gray': 16, 'level': 42, 'screen': 75, 'jklehtoricctutfi': 10, 'kouhia': 13, 'juhana': 13, 'hollaschkpccom': 6, 'steve': 45, 'hollasch': 8, 'extra': 22, 'mayb': 41, 'two': 114, 'resolut': 44, 'display': 167, 'onli': 178, 'zero': 6, 'full': 55, 'primari': 6, 'youd': 12, 'equival': 6, 'photograph': 28, 'suggest': 92, 'wrote': 80, 'problem': 179, 'clear': 19, 'bw': 14, 'mention': 48, 'delet': 21, 'quick': 33, 'better': 88, 'case': 54, 'black': 30, 'slow': 25, 'machin': 84, 'pixel': 73, 'x': 196, 'constant': 18, 'recal': 7, 'doubl': 25, 'buffer': 42, 'doesnt': 70, 'either': 70, 'dump': 9, 'photo': 21, 'low': 22, 'year': 71, 'ago': 39, 'friend': 18, 'greylevel': 3, 'plus': 34, 'method': 60, 'synchron': 10, 'hz': 5, 'second': 50, 'differ': 129, 'apertur': 3, 'set': 113, 'bright': 10, 'rang': 34, 'qualiti': 42, 'pretti': 56, 'good': 156, 'minim': 10, 'exposur': 6, 'built': 37, 'frame': 59, 'contain': 79, 'dot': 12, 'store': 55, 'data': 97, 'fast': 80, 'onto': 15, 'sequenc': 31, 'sometim': 15, 'old': 39, 'camera': 15, 'close': 37, 'dure': 10, 'anyway': 39, 'yes': 61, 'direct': 78, 'memori': 51, 'biggest': 6, 'top': 33, 'left': 22, 'corner': 9, 'instead': 28, 'film': 19, 'print': 52, 'becaus': 90, 'troubl': 26, 'manual': 40, 'move': 57, 'guess': 27, 'regard': 49, 'sloancisuabedu': 5, 'sloan': 7, 'didnt': 36, 'slice': 10, 'requir': 113, 'total': 15, 'precis': 31, 'reduc': 14, 'scienc': 68, 'alabama': 6, 'birmingham': 4, 'campbel': 12, 'hall': 18, 'uab': 4, 'station': 26, 'al': 11, 'lex': 2, 'van': 25, 'sonderen': 2, 'rumour': 26, 'erik': 4, 'fortun': 6, 'cdi': 7, 'much': 140, 'cours': 55, 'agre': 23, 'doe': 283, 'horsepow': 5, 'measur': 27, 'motion': 13, 'yet': 51, 'cdrom': 23, 'start': 79, 'quarter': 13, 'manufactur': 19, 'late': 10, 'report': 28, 'compat': 32, 'box': 65, 'shall': 6, 'date': 34, 'third': 10, 'hand': 39, 'worth': 17, 'still': 80, 'hard': 47, 'futur': 33, 'philip': 8, 'interact': 54, 'media': 18, 'visuallib': 1, 'window': 148, 'run': 177, 'ms': 27, 'vga': 70, 'addon': 4, 'high': 60, 'compil': 68, 'v': 58, 'technolog': 57, 'institut': 41, 'park': 17, 'drive': 42, 'phone': 73, 'singapor': 5, 'packag': 122, 'hi': 124, 'royalti': 6, 'free': 70, 'main': 43, 'children': 4, 'game': 31, 'educ': 29, 'heard': 43, 'gfx': 5, 'pardon': 6, 'question': 129, 'sound': 38, 'littl': 61, 'strang': 8, 'market': 34, 'rep': 10, 'phillip': 6, 'bet': 17, 'schedul': 7, 'knew': 8, 'player': 10, 'month': 42, 'commerci': 54, 'releas': 51, 'announc': 38, 'tool': 58, 'product': 97, 'chip': 19, 'compani': 63, 'titl': 29, 'bar': 17, 'road': 26, 'folk': 12, 'busi': 21, 'h': 31, 'l': 24, 'generat': 85, 'cross': 13, 'becom': 28, 'mani': 126, 'q': 13, 'ari': 2, 'aix': 9, 'anybodi': 76, 'rs': 23, 'dec': 34, 'gks': 8, 'hewlettpackard': 5, 'starbas': 7, 'reason': 59, 'support': 176, 'output': 61, 'devic': 36, 'plotter': 11, 'termin': 23, 'implement': 81, 'phig': 18, 'xwindow': 22, 'familiar': 12, 'expect': 39, 'solut': 43, 'hardcopi': 14, 'martin': 26, 'xr': 12, 'various': 34, 'least': 54, 'pnmtop': 1, 'take': 138, 'advantag': 26, 'postscript': 38, 'let': 69, 'printer': 30, 'job': 27, 'dither': 36, 'white': 16, 'convert': 187, 'ppm': 20, 'smaller': 18, 'neat': 7, 'scale': 43, 'width': 10, 'prevent': 9, 'rotat': 35, 'wider': 5, 'specifi': 29, 'fit': 37, 'within': 43, 'less': 34, 'thus': 37, 'lot': 109, 'certain': 41, 'automat': 28, 'size': 47, 'blow': 5, 'hope': 72, 'faculti': 5, 'mathemat': 24, 'netherland': 14, 'grey': 11, 'item': 16, 'nonlinear': 11, 'linear': 16, 'best': 82, 'chosen': 7, 'vari': 16, 'keep': 50, 'order': 49, 'reader': 12, 'cant': 85, 'connect': 34, 'smoother': 5, 'franc': 11, 'ill': 55, 'pay': 14, 'whatev': 27, 'cost': 43, 'pov': 48, 'textur': 40, 'anim': 123, 'though': 51, 'preview': 19, 'actual': 72, 'encount': 12, 'amongst': 4, 'draw': 93, 'wirefram': 16, 'explicit': 6, 'equat': 17, 'z': 18, 'paramet': 26, 'alway': 29, 'math': 15, 'book': 115, 'jim': 16, 'acquisit': 5, 'collect': 27, 'varieti': 18, 'extern': 16, 'ad': 46, 'abl': 82, 'realtim': 21, 'idea': 62, 'might': 69, 'suit': 26, 'realli': 67, 'wave': 5, 'khoro': 13, 'new': 145, 'mexico': 4, 'login': 12, 'valid': 10, 'password': 14, 'cd': 24, 'place': 66, 'scrowehemelbullcouk': 7, 'simon': 10, 'crow': 7, 'bgi': 4, 'driver': 69, 'svga': 30, 'super': 11, 'obtain': 40, 'relev': 12, 'site': 112, 'daniel': 17, 'vesa': 42, 'speedstar': 14, 'terri': 7, 'instanc': 12, 'pro': 22, 'autodesk': 14, 'detect': 21, 'mode': 84, 'univesa': 4, 'hicolor': 10, 'stuff': 60, 'latest': 22, 'previous': 26, 'fill': 34, 'miss': 34, 'indic': 16, 'fine': 40, 'quit': 59, 'import': 55, 'useless': 15, 'imho': 12, 'fix': 36, 'quot': 18, 'comment': 36, 'wizard': 4, 'known': 38, 'yellow': 4, 'situnayaibmbhamacuk': 6, 'none': 25, 'bear': 8, 'explain': 35, 'exact': 48, 'simpli': 31, 'fade': 5, 'bitmap': 48, 'anoth': 100, 'shape': 15, 'p': 53, 'excus': 4, 'ignor': 7, 'messag': 41, 'e': 55, 'earlier': 18, 'th': 23, 'stgpraostunocalcom': 5, 'richard': 27, 'ottolini': 5, 'hit': 10, 'encourag': 10, 'sale': 19, 'multimedia': 18, 'digit': 103, 'televis': 4, 'dos': 61, 'compel': 4, 'buy': 44, 'perhap': 45, 'news': 47, 'technic': 58, 'sought': 4, 'immedi': 20, 'detail': 52, 'compress': 60, 'techniqu': 36, 'algo': 4, 'publicdomain': 8, 'jpeg': 62, 'gif': 128, 'fractal': 36, 'grate': 6, 'share': 19, 'info': 95, 'project': 103, 'stephen': 18, 'normal': 44, 'orient': 35, 'cube': 14, 'face': 19, 'determin': 32, 'clockwis': 5, 'counterclockwis': 6, 'given': 62, 'say': 119, 'except': 29, 'way': 145, 'realiz': 11, 'flip': 10, 'algorithm': 133, 'id': 72, 'tip': 9, 'refer': 89, 'concern': 31, 'standard': 99, 'bad': 41, 'although': 34, 'everyon': 21, 'john': 42, 'opinion': 47, 'barri': 7, 'egert': 2, 'toolkit': 29, 'truli': 15, 'brother': 4, 'chris': 42, 'sharewar': 37, 'featur': 73, 'load': 39, 'save': 72, 'block': 12, 'herein': 5, 'resiz': 7, 'warp': 8, 'palett': 23, 'primit': 12, 'line': 155, 'circl': 31, 'rectangl': 6, 'region': 11, 'usual': 40, 'sprite': 13, 'onscreen': 5, 'creation': 15, 'tile': 8, 'increas': 17, 'profession': 22, 'creator': 3, 'util': 58, 'maker': 6, 'simplifi': 9, 'scroll': 11, 'fli': 24, 'play': 46, 'pcx': 25, 'soon': 26, 'leav': 30, 'mget': 4, 'simtel': 14, 'mirror': 31, 'nicfunetfi': 6, 'club': 4, 'corp': 15, 'origin': 97, 'wall': 9, 'u': 25, 'electr': 13, 'evalu': 4, 'serious': 17, 'sign': 10, 'chang': 113, 'obvious': 18, 'therefor': 20, 'shown': 6, 'sorri': 52, 'genoa': 6, 'xx': 35, 'noth': 33, 'ati': 8, 'ultra': 11, 'mb': 34, 'us': 57, 'street': 19, 'price': 44, 'inconsist': 5, 'vertic': 22, 'pq': 2, 'qp': 3, 'appear': 43, 'travel': 8, 'assum': 26, 'otherwis': 24, 'pick': 18, 'travers': 5, 'consist': 23, 'mark': 46, 'ok': 34, 'f': 27, 'wrong': 48, 'check': 85, 'especi': 25, 'remov': 49, 'discov': 14, 'lose': 15, 'step': 30, 'particular': 39, 'decid': 28, 'exercis': 5, 'bell': 6, 'unknown': 12, 'dictionari': 3, 'allow': 92, 'integ': 11, 'repres': 34, 'arbitrari': 22, 'surround': 5, 'base': 81, 'recurs': 6, 'entir': 38, 'averag': 13, 'calcul': 38, 'volum': 29, 'account': 14, 'posit': 35, 'negat': 10, 'revers': 11, 'choos': 14, 'end': 50, 'facet': 7, 'note': 89, 'silicon': 18, 'iri': 19, 'reli': 5, 'heavili': 7, 'yeah': 5, 'term': 25, 'effect': 45, 'sweden': 4, 'havent': 31, 'lost': 14, 'mind': 29, 'back': 66, 'tape': 19, 'somewher': 21, 'brian': 23, 'ige': 6, 'viewer': 78, 'electron': 37, 'express': 25, 'mine': 19, 'vcr': 5, 'class': 18, 'movi': 28, 'sort': 46, 'disney': 3, 'put': 51, 'relat': 50, 'cheap': 21, 'physic': 19, 'stereoscop': 4, 'sun': 68, 'part': 71, 'refresh': 3, 'rate': 38, 'abnovaccpurdueedu': 13, 'allen': 14, 'b': 72, 'pdxgateuucp': 4, 'idrrigelcspdxedu': 6, 'ian': 7, 'romanick': 6, 'initi': 17, 'condit': 9, 'caus': 27, 'huge': 15, 'final': 44, 'activ': 23, 'land': 7, 'random': 9, 'true': 45, 'long': 39, 'event': 16, 'big': 43, 'general': 53, 'argu': 7, 'similar': 41, 'seem': 95, 'replac': 22, 'test': 62, 'rest': 12, 'rather': 46, 'improv': 40, 'manner': 8, 'seen': 47, 'exist': 53, 'hold': 19, 'breath': 5, 'believ': 40, 'compet': 10, 'altern': 24, 'everyth': 27, 'practic': 24, 'barnsley': 4, 'demo': 24, 'six': 8, 'iter': 8, 'form': 67, 'plan': 32, 'ship': 19, 'encod': 14, 'summer': 7, 'march': 15, 'half': 17, 'decod': 34, 'american': 18, 'complex': 34, 'imaginari': 5, 'biomed': 4, 'anywher': 10, 'net': 45, 'experiment': 15, 'everi': 48, 'sampl': 21, 'magnitud': 6, 'phase': 6, 'lord': 6, 'mpeg': 18, 'msdos': 37, 'prefer': 44, 'scott': 18, 'knight': 6, 'clue': 4, 'wont': 23, 'anyth': 80, 'jack': 8, 'list': 96, 'summar': 5, 'g': 41, 'geoff': 3, 'thoma': 22, 'youll': 27, 'colour': 50, 'bio': 14, 'interrupt': 6, 'r': 55, 'uniqu': 13, 'dept': 36, 'privat': 6, 'bag': 4, 'zealand': 12, 'markus': 3, 'hire': 5, 'art': 42, 'senior': 4, 'artist': 17, 'vancouv': 7, 'canada': 29, 'resourc': 35, 'happi': 26, 'hugh': 7, 'johnson': 3, 'quicktim': 29, 'macintosh': 27, 'excel': 21, 'perfect': 18, 'themselv': 9, 'glad': 9, 'copi': 74, 'convers': 66, 'poor': 25, 'word': 47, 'unless': 20, 'youv': 17, 'quadra': 16, 'landscap': 8, 'compact': 10, 'compressor': 9, 'okay': 18, 'absolut': 8, 'awesom': 4, 'peopl': 82, 'meg': 30, 'binhex': 4, 'parti': 8, 'evid': 6, 'dedic': 8, 'archiv': 55, 'gotta': 7, 'gb': 2, 'request': 32, 'simplic': 4, 'sake': 4, 'itll': 7, 'pop': 6, 'later': 30, 'polytechn': 3, 'welcom': 24, 'york': 15, 'usa': 26, 'georg': 9, 'brown': 6, 'dear': 5, 'binari': 29, 'microsoft': 19, 'tiff': 66, 'dr': 28, 'tsr': 8, 'reinvent': 4, 'wheel': 6, 'hole': 10, 'autocad': 17, 'faq': 60, 'read': 175, 'newsgroup': 82, 'often': 26, 'matt': 4, 'ntsc': 15, 'signal': 23, 'tube': 4, 'said': 33, 'follow': 91, 'tv': 12, 'suppos': 39, 'gamma': 11, 'colleg': 21, 'mike': 19, 'lee': 15, 'mono': 5, 'monochrom': 4, 'mpegplay': 2, 'locat': 64, 'kevin': 19, 'shin': 4, 'charact': 21, 'graph': 28, 'process': 113, 'gonzalez': 6, 'expens': 16, 'today': 20, 'ab': 14, 'philosoph': 25, 'signific': 44, 'ulrichgalkitoppointd': 7, 'accord': 11, 'byte': 39, 'deep': 9, 'hitchhik': 6, 'guid': 14, 'galaxi': 5, 'amus': 6, 'spec': 28, 'neither': 6, 'addit': 49, 'choic': 24, 'begin': 13, 'meaningless': 5, 'letter': 14, 'bother': 7, 'robrjckuucp': 8, 'jc': 7, 'kyanko': 7, 'greet': 8, 'due': 40, 'restrict': 16, 'weitek': 6, 'sell': 35, 'upon': 17, 'acceler': 12, 'depend': 25, 'yield': 4, 'benchmark': 4, 'lowlevel': 6, 'goe': 20, 'nice': 72, 'command': 36, 'bewar': 4, 'michael': 41, 'lewi': 11, 'delaunay': 7, 'triangul': 17, 'zyehcaspianuscedu': 15, 'zhenghao': 15, 'yeh': 25, 'object': 92, 'tin': 6, 'irregular': 5, 'network': 55, 'basic': 57, 'triangl': 21, 'special': 49, 'dan': 15, 'corel': 16, 'cdr': 4, 'power': 34, 'xv': 54, 'lar': 3, 'peter': 32, 'frank': 9, 'edward': 17, 'curs': 3, 'header': 23, 'steel': 5, 'svr': 5, 'amiga': 57, 'provid': 100, 'press': 22, 'fmli': 2, 'extend': 29, 'nd': 13, 'edit': 58, 'isbn': 16, 'paraphras': 5, 'outsid': 18, 'cover': 27, 'highlevel': 5, 'menus': 7, 'text': 55, 'manag': 44, 'subroutin': 10, 'promot': 11, 'panel': 11, 'menu': 23, 'manipul': 73, 'shell': 6, 'ascii': 20, 'entri': 34, 'section': 34, 'control': 46, 'consult': 9, 'rout': 6, 'meet': 16, 'pat': 6, 'ednoblessacamorenortnedu': 6, 'nobl': 8, 'povray': 25, 'diamond': 16, 'board': 47, 'cjpeg': 11, 'cview': 33, 'uvesazip': 3, 'dvpeg': 4, 'proper': 17, 'feel': 37, 'enlighten': 4, 'darn': 6, 'alchemi': 9, 'aka': 5, 'netland': 6, 'yep': 6, 'rememb': 24, 'k': 41, 'flag': 6, 'trbramsstateedu': 6, 'toni': 15, 'boutwel': 4, 'hot': 12, 'ibmer': 4, 'imagin': 30, 'yesterday': 5, 'person': 77, 'door': 6, 'dstudio': 11, 'made': 55, 'impuls': 16, 'rd': 20, 'raytrac': 69, 'fx': 4, 'bounc': 6, 'natur': 27, 'live': 21, 'background': 17, 'retail': 7, 'fool': 9, 'studio': 19, 'send': 101, 'imaginerequestemailspparamaxcom': 4, 'subscrib': 11, 'frequent': 15, 'answer': 72, 'silenc': 6, 'oppos': 7, 'freedom': 6, 'j': 50, 'wouldnt': 19, 'contour': 18, 'reach': 9, 'paul': 23, 'apr': 24, 'toronto': 10, 'siggraph': 29, 'chanc': 9, 'indigo': 20, 'evan': 6, 'inc': 43, 'mcluhan': 2, 'centr': 30, 'cultur': 4, 'queen': 4, 'member': 19, 'enter': 19, 'earli': 18, 'beta': 11, 'artwork': 5, 'issu': 42, 'discuss': 65, 'outlin': 16, 'talk': 38, 'opportun': 4, 'situat': 26, 'alloc': 6, 'instal': 36, 'drop': 12, 'btw': 9, 'execut': 23, 'nomin': 9, 'open': 49, 'east': 16, 'north': 26, 'south': 10, 'st': 23, 'joseph': 11, 'behind': 14, 'studi': 13, 'membership': 6, 'watson': 4, 'geometr': 31, 'voronoi': 1, 'tessel': 6, 'construct': 10, 'deriv': 7, 'neighbor': 5, 'diagram': 10, 'survey': 7, 'fundament': 9, 'acm': 18, 'spatial': 16, 'concept': 14, 'wiley': 7, 'australian': 6, 'western': 9, 'australia': 26, 'tel': 32, 'wa': 9, 'lynn': 6, 'craig': 16, 'vpic': 10, 'return': 32, 'star': 10, 'dark': 9, 'newer': 16, 'os': 25, 'graemelabtamlabtamozau': 5, 'graem': 6, 'gill': 16, 'faster': 34, 'bresenham': 2, 'mpdillonhalcyoncom': 4, 'dillon': 4, 'along': 34, 'minor': 9, 'axi': 12, 'increment': 4, 'springerverlag': 6, 'berlin': 5, 'doublestep': 2, 'wu': 2, 'rokn': 2, 'vol': 13, 'mar': 9, 'pp': 16, 'ellips': 12, 'ieee': 11, 'gwampyrccuoweduau': 5, 'coronado': 5, 'emmanuel': 5, 'abad': 5, 'font': 24, 'mtv': 5, 'rayshad': 18, 'stroke': 5, 'depth': 20, 'associ': 23, 'noel': 5, 'erwin': 2, 'keev': 2, 'reduct': 8, 'search': 36, 'et': 14, 'oooooo': 4, 'w': 45, 'cologn': 2, 'germani': 12, 'academi': 4, 'stefan': 5, 'taken': 6, 'accompani': 8, 'public': 73, 'domain': 41, 'raw': 24, 'grayscal': 20, 'colorspac': 1, 'select': 47, 'ram': 29, 'mswindow': 11, 'arithmet': 9, 'supervga': 5, 'straightforward': 10, 'multipl': 23, 'eight': 5, 'coeffici': 4, 'berkeley': 7, 'fewer': 4, 'default': 20, 'satur': 4, 'domin': 2, 'lead': 23, 'superior': 5, 'claim': 35, 'compon': 24, 'clip': 30, 'space': 60, 'distanc': 20, 'factor': 15, 'fulli': 16, 'lie': 15, 'approxim': 22, 'primarili': 10, 'hue': 5, 'lower': 13, 'sensit': 4, 'pal': 12, 'area': 52, 'bound': 13, 'upgrad': 30, 'major': 36, 'win': 7, 'slower': 9, 'central': 9, 'administr': 9, 'unit': 40, 'oxford': 12, 'manchest': 13, 'afclevelandfreenetedu': 6, 'chad': 3, 'cipiti': 3, 'paint': 26, 'sgi': 33, 'piec': 20, 'alot': 5, 'whos': 7, 'dane': 2, 'hendrix': 5, 'stereo': 12, 'involv': 23, 'pair': 8, 'blackandwhit': 4, 'hear': 29, 'softwarehardwar': 7, 'md': 6, 'green': 6, 'sens': 26, 'jonathan': 4, 'ed': 27, 'suno': 8, 'luck': 19, 'upper': 5, 'fortran': 17, 'char': 6, 'tabl': 27, 'yee': 4, 'wed': 6, 'gmt': 11, 'oper': 75, 'forum': 24, 'middlesex': 5, 'ontario': 13, 'geometri': 24, 'union': 3, 'convex': 18, 'equal': 20, 'intersect': 43, 'splivemucsdedu': 4, 'lamont': 8, 'effici': 21, 'gem': 15, 'spl': 6, 'sciviguy': 6, 'splszechuanucsdedu': 6, 'microscopi': 8, 'resourceuc': 6, 'diegola': 6, 'jolla': 8, 'ferdinanoeinckwaterlandwlinknl': 5, 'ferdinand': 7, 'oeinck': 7, 'bezier': 22, 'curv': 36, 'pekka': 2, 'siltanen': 2, 'cubic': 8, 'jonasyisylius': 4, 'jona': 4, 'yngvesson': 4, 'reprint': 6, 'permiss': 14, 'sue': 8, 'hain': 8, 'topic': 25, 'snip': 2, 'man': 19, 'fish': 9, 'hell': 14, 'day': 48, 'rod': 5, 'undecid': 3, 'baraff': 2, 'duff': 4, 'compgraph': 36, 'keyword': 15, 'theorem': 4, 'smith': 9, 'forward': 8, 'difficult': 20, 'divid': 7, 'plane': 34, 'insid': 30, 'rare': 4, 'happen': 35, 'decis': 7, 'approach': 24, 'solv': 28, 'success': 21, 'adob': 31, 'incorpor': 14, 'co': 20, 'examin': 6, 'infinit': 13, 'forc': 11, 'invok': 9, 'axiom': 3, 'light': 24, 'alias': 5, 'finit': 6, 'coupl': 39, 'mathematica': 5, 'cambridg': 10, 'england': 7, 'introduct': 13, 'theori': 10, 'citi': 12, 'overkil': 5, 'att': 9, 'murray': 7, 'hill': 13, 'nj': 8, 'lab': 35, 'comp': 13, 'ii': 21, 'circuit': 4, 'besid': 17, 'longer': 22, 'cray': 14, 'deliv': 6, 'loop': 11, 'wors': 12, 'satisfi': 11, 'deal': 40, 'ray': 51, 'odd': 16, 'pi': 10, 'sum': 9, 'angl': 17, 'usc': 10, 'christoph': 11, 'bob': 19, 'serial': 6, 'port': 39, 'switch': 24, 'fair': 40, 'singl': 23, 'unfortun': 21, 'poster': 18, 'intern': 42, 'modem': 11, 'isnt': 25, 'arent': 10, 'com': 5, 'shouldnt': 10, 'worri': 12, 'reliabl': 11, 'error': 42, 'insist': 4, 'loss': 14, 'typic': 18, 'theyv': 7, 'speed': 45, 'consider': 12, 'student': 24, 'autom': 14, 'wait': 15, 'clark': 6, 'garbouwasafi': 4, 'subdirectori': 12, 'readm': 19, 'ahead': 8, 'tech': 11, 'paradis': 7, 'oak': 15, 'trident': 7, 'tseng': 7, 'enjoy': 17, 'wak': 1, 'cptullymeduncedu': 3, 'tight': 4, 'matter': 20, 'gripe': 6, 'volunt': 9, 'critiqu': 4, 'backward': 5, 'carolina': 8, 'chapel': 10, 'cb': 5, 'nc': 7, 'unc': 3, 'cgm': 10, 'love': 24, 'joshua': 3, 'mogal': 2, 'dahlgren': 3, 'agenc': 12, 'vr': 7, 'abc': 3, 'magazin': 23, 'highend': 12, 'parallel': 33, 'imposs': 5, 'tradit': 6, 'flight': 9, 'simul': 25, 'train': 19, 'head': 25, 'rapid': 8, 'simpler': 6, 'medium': 9, 'focus': 11, 'modifi': 33, 'kernel': 11, 'multiprocessor': 6, 'scheme': 4, 'cannot': 24, 'sparc': 18, 'seri': 32, 'sgis': 12, 'crimson': 11, 'onyx': 4, 'challeng': 6, 'multiprocess': 4, 'architectur': 21, 'perspect': 13, 'antialias': 16, 'realityengin': 3, 'kind': 73, 'gl': 23, 'opengl': 5, 'pex': 11, 'target': 10, 'popular': 18, 'school': 7, 'monterey': 3, 'paradigm': 4, 'tx': 6, 'mountain': 14, 'perform': 58, 'arm': 5, 'menlo': 4, 'stanford': 10, 'ny': 19, 'optic': 6, 'sunnyval': 4, 'sw': 6, 'jose': 4, 'expert': 11, 'sp': 5, 'artifici': 5, 'josh': 4, 'blvd': 5, 'curious': 21, 'modern': 4, 'wit': 4, 'rule': 22, 'stream': 9, 'caution': 4, 'accur': 6, 'coordin': 26, 'roll': 7, 'grant': 13, 'multivers': 7, 'clientserv': 6, 'limit': 53, 'generic': 14, 'client': 22, 'server': 48, 'attach': 12, 'spot': 15, 'extens': 51, 'handl': 71, 'told': 12, 'viewpoint': 7, 'action': 10, 'spent': 12, 'enhanc': 30, 'adapt': 11, 'moment': 16, 'phong': 6, 'shade': 31, 'mous': 18, 'keyboard': 9, 'powerglov': 5, 'custom': 26, 'potenti': 11, 'transpar': 6, 'writer': 6, 'local': 36, 'registr': 17, 'callback': 7, 'collis': 2, 'kept': 9, 'build': 43, 'minimum': 15, 'prove': 12, 'count': 23, 'three': 44, 'dactyl': 6, 'dogfight': 7, 'realist': 9, 'zbuffer': 21, 'graviti': 6, 'ever': 29, 'explor': 17, 'disclaim': 13, 'heart': 5, 'pure': 7, 'held': 11, 'updat': 32, 'adfreenetcarletonca': 3, 'jason': 6, 'wiggl': 3, 'turbo': 18, 'teach': 7, 'higher': 26, 'wang': 7, 'davidrrinconemarockwellcom': 3, 'fps': 11, 'saw': 20, 'unlik': 12, 'guy': 19, 'show': 53, 'playback': 9, 'floppi': 15, 'disk': 42, 'crt': 2, 'regist': 30, 'past': 15, 'diffus': 5, 'confus': 19, 'mechan': 12, 'magic': 12, 'sit': 7, 'extrem': 10, 'blurri': 7, 'onlin': 32, 'necessari': 17, 'ame': 8, 'ia': 6, 'pm': 10, 'eisa': 6, 'bus': 15, 'matrox': 7, 'isa': 7, 'silver': 8, 'west': 14, 'coast': 4, 'recognis': 4, 'fuzzi': 4, 'flat': 14, 'rgcbcsteccaboeingcom': 9, 'carpent': 13, 'recommend': 52, 'netter': 17, 'cad': 18, 'rudimentri': 7, 'task': 23, 'hidden': 21, 'key': 25, 'ds': 16, 'bump': 3, 'ipa': 5, 'compar': 27, 'hook': 8, 'vivid': 10, 'polyray': 6, 'hundr': 13, 'comparison': 20, 'trace': 43, 'workshop': 22, 'archi': 27, 'draft': 3, 'couldnt': 19, 'anonym': 36, 'neopaint': 2, 'ape': 3, 'thin': 3, 'assist': 19, 'cylind': 6, 'segment': 16, 'radius': 12, 'eg': 31, 'easiest': 5, 'cut': 20, 'touch': 7, 'closest': 7, 'nope': 4, 'arbitrarili': 5, 'kubota': 18, 'keith': 6, 'alpha': 23, 'path': 22, 'vax': 10, 'decstat': 9, 'mainfram': 5, 'complain': 8, 'older': 11, 'statement': 6, 'mere': 6, 'eventu': 7, 'histori': 3, 'industri': 28, 'mip': 8, 'william': 16, 'northern': 3, 'iowa': 6, 'resum': 3, 'floor': 7, 'korea': 3, 'scientist': 13, 'knowledg': 25, 'aid': 10, 'skill': 10, 'desir': 17, 'optim': 20, 'colormap': 9, 'spread': 4, 'spectrum': 11, 'ident': 4, 'rscaltaircsustanedu': 4, 'cunningham': 7, 'confer': 36, 'brows': 8, 'exhibit': 13, 'juli': 15, 'safe': 6, 'session': 7, 'august': 8, 'fan': 5, 'fractint': 5, 'listen': 3, 'prj': 4, 'car': 9, 'cpu': 18, 'appar': 20, 'soni': 5, 'host': 21, 'avalonchinalakenavymil': 3, 'computeccncsuedu': 5, 'wuarchivewustledu': 19, 'jan': 8, 'ya': 4, 'joerg': 2, 'rwrr': 3, 'dent': 3, 'sunsiteuncedu': 8, 'threshold': 5, 'patch': 21, 'halfton': 7, 'ibmpc': 5, 'msc': 5, 'stsmfltdcouk': 5, 'sherwood': 5, 'svrs': 4, 'sparcstat': 13, 'bug': 48, 'twice': 11, 'modul': 24, 'static': 5, 'coredump': 4, 'extn': 5, 'uunetmfocusst': 5, 'micro': 9, 'pariah': 3, 'rm': 8, 'rf': 3, 'blaze': 3, 'obscur': 4, 'rum': 3, 'ruff': 3, 'splat': 3, 'newburi': 3, 'courag': 3, 'surviv': 4, 'berkshir': 3, 'abort': 5, 'retri': 3, 'influenc': 5, 'hammer': 3, 'bank': 12, 'latitud': 4, 'longitud': 4, 'snail': 8, 'charl': 25, 'pd': 24, 'fidonet': 10, 'wish': 14, 'speak': 17, 'young': 6, 'mr': 12, 'river': 6, 'hudson': 4, 'fail': 12, 'tokyo': 6, 'japan': 11, 'round': 8, 'ellipt': 4, 'photoshop': 30, 'intend': 24, 'prepar': 13, 'annoy': 11, 'fact': 32, 'led': 4, 'fork': 6, 'lift': 5, 'sold': 7, 'investor': 3, 'bottom': 14, 'pressur': 4, 'occas': 5, 'bone': 4, 'entitl': 5, 'kid': 5, 'nasa': 14, 'suspect': 12, 'money': 20, 'spend': 14, 'basi': 14, 'period': 17, 'five': 13, 'beyond': 11, 'equip': 25, 'nich': 3, 'feder': 9, 'tax': 11, 'dollar': 9, 'strip': 15, 'extract': 13, 'sumexaimstanfordedu': 9, 'thu': 3, 'ove': 2, 'grafsi': 3, 'incom': 6, 'ver': 4, 'promis': 11, 'doc': 18, 'chapter': 9, 'fpu': 5, 'threedimension': 10, 'molecul': 7, 'independ': 23, 'dimension': 11, 'suppli': 19, 'transform': 47, 'easier': 21, 'noncommerci': 6, 'usag': 11, 'enclos': 4, 'petervanderveenvisserelwaunl': 4, 'der': 5, 'borland': 4, 'sphere': 41, 'cone': 4, 'forgot': 5, 'oo': 10, 'genet': 5, 'vmode': 2, 'prompt': 14, 'emerg': 5, 'marshal': 5, 'itali': 6, 'softimag': 4, 'somewhat': 10, 'readingwrit': 8, 'tofrom': 8, 'storag': 18, 'learn': 37, 'companion': 4, 'overal': 9, 'acquir': 6, 'runtim': 7, 'licens': 29, 'mitsubishi': 4, 'bought': 11, 'came': 21, 'bitpixel': 2, 'literatur': 18, 'bitspixel': 7, 'california': 14, 'node': 11, 'link': 11, 'swiss': 5, 'ch': 8, 'switzerland': 10, 'sean': 22, 'mcmain': 10, 'mcmainsuntedu': 13, 'aprrchlandibmcom': 9, 'ricardo': 9, 'hernandez': 9, 'muchado': 9, 'ricardorchlandvnetibmcom': 9, 'cdis': 5, 'variat': 12, 'mhz': 27, 'wow': 8, 'motorola': 9, 'lineup': 7, 'lawrenc': 9, 'plain': 18, 'codec': 7, 'appl': 28, 'centri': 7, 'risc': 13, 'fullscreen': 9, 'fullmot': 4, 'impli': 6, 'dynam': 25, 'gopher': 15, 'texa': 11, 'po': 26, 'xga': 3, 'truecolor': 7, 'intel': 10, 'pete': 6, 'war': 6, 'break': 13, 'commit': 4, 'flock': 4, 'portabl': 22, 'strong': 16, 'platform': 59, 'guarante': 12, 'carri': 17, 'team': 6, 'branch': 7, 'repeat': 15, 'shot': 4, 'introduc': 18, 'clock': 9, 'thumb': 4, 'individu': 22, 'subsystem': 7, 'vgx': 4, 'bandwidth': 5, 'io': 10, 'larger': 9, 'capac': 4, 'protect': 9, 'misunderstand': 5, 'regardless': 4, 'mess': 6, 'aw': 14, 'analyst': 4, 'watch': 4, 'arriv': 3, 'competit': 5, 'uucp': 27, 'soul': 10, 'grasp': 12, 'raj': 2, 'robust': 7, 'henc': 8, 'squar': 11, 'staff': 7, 'instrument': 9, 'compass': 2, 'laplacian': 3, 'greyscal': 5, 'inputimag': 2, 'gaussian': 6, 'nois': 8, 'unsign': 1, 'magnitudeimag': 1, 'int': 5, 'compassop': 1, 'void': 3, 'rowcol': 1, 'oprow': 1, 'opcol': 1, 'row': 6, 'col': 2, 'oprowscol': 1, 'algocount': 1, 'music': 16, 'cat': 9, 'doubt': 11, 'xarchi': 6, 'ultrix': 6, 'solari': 4, 'critic': 6, 'fastest': 10, 'tracer': 12, 'admit': 6, 'worley': 7, 'spencer': 3, 'xy': 8, 'interv': 5, 'tt': 5, 'michigan': 4, 'mi': 7, 'bolsoncarsonuwashingtonedu': 9, 'bolson': 9, 'boy': 11, 'embarass': 6, 'trivial': 10, 'non': 12, 'coplanar': 9, 'farin': 6, 'merci': 6, 'washington': 5, 'ivan': 3, 'sutherland': 7, 'harvard': 3, 'kim': 6, 'societi': 10, 'lectur': 3, 'innov': 5, 'room': 19, 'logic': 16, 'effort': 16, 'tea': 4, 'serv': 6, 'stand': 14, 'earth': 33, 'archimed': 6, 'readi': 17, 'theyr': 12, 'intro': 7, 'mod': 4, 'repost': 6, 'callabl': 5, 'exit': 4, 'pixmap': 8, 'rectangular': 11, 'zip': 7, 'itd': 6, 'credit': 9, 'bobc': 4, 'pascal': 22, 'mpw': 4, 'ideal': 14, 'steven': 4, 'collin': 5, 'qkgbuinnsnshelleyuwashingtonedu': 4, 'hyperspher': 4, 'equidist': 3, 'necessarili': 16, 'visit': 7, 'spworleynetcomcom': 2, 'ref': 4, 'pass': 17, 'perpendicular': 4, 'unus': 5, 'bisector': 5, 'patrick': 7, 'stratavis': 3, 'swivel': 4, 'tomorrow': 4, 'driven': 6, 'jerri': 2, 'cobra': 1, 'cga': 7, 'enabl': 16, 'pattern': 20, 'self': 5, 'bbs': 23, 'gold': 7, 'roman': 3, 'recognit': 11, 'wsmrsimtelarmymil': 6, 'scanner': 24, 'distpcp': 1, 'rid': 4, 'root': 8, 'distsqpcp': 1, 'plug': 6, 'formula': 12, 'xc': 3, 'cancel': 4, 'favorit': 11, 'god': 9, 'nation': 26, 'einstein': 2, 'burkhard': 2, 'neideckerlutz': 2, 'aprmercuryuntedu': 8, 'european': 6, 'integr': 29, 'karlsruh': 4, 'gregori': 5, 'avi': 4, 'ph': 11, 'melbourn': 2, 'victoria': 6, 'renewbladestackurctuenl': 8, 'rene': 12, 'walter': 9, 'danger': 7, 'temp': 14, 'chunk': 5, 'finish': 18, 'track': 13, 'bigger': 8, 'largest': 3, 'excess': 4, 'fat': 6, 'insert': 4, 'incred': 8, 'togeth': 27, 'wanna': 3, 'oh': 22, 'gari': 4, 'rwsvuvacscsvirginiaedu': 3, 'stoakley': 3, 'concav': 12, 'layout': 10, 'label': 3, 'arc': 4, 'inbetween': 3, 'distort': 11, 'metal': 3, 'conveni': 18, 'planar': 6, 'hull': 8, 'uk': 28, 'footbal': 4, 'death': 6, 'bill': 16, 'dougla': 9, 'bc': 8, 'coincid': 6, 'failur': 2, 'ac': 4, 'numer': 27, 'ep': 8, 'servic': 46, 'nn': 5, 'decreas': 8, 'patholog': 4, 'ratio': 8, 'min': 7, 'decompress': 21, 'alon': 7, 'tiang': 2, 'lock': 7, 'disagre': 4, 'accomod': 5, 'attribut': 10, 'foo': 2, 'tianguokmaxecnuoknoredu': 2, 'adjust': 19, 'profil': 6, 'soil': 5, 'trial': 5, 'interpol': 24, 'artifact': 10, 'border': 10, 'vgasvga': 3, 'advic': 17, 'xyz': 12, 'expand': 10, 'column': 5, 'bx': 6, 'orourkesophiasmithedu': 7, 'orourk': 7, 'vast': 8, 'liter': 4, 'journal': 13, 'transact': 8, 'octob': 6, 'variant': 5, 'ic': 3, 'core': 8, 'bmp': 21, 'forgiv': 8, 'de': 13, 'op': 4, 'index': 29, 'aantalsnijpunten': 1, 'px': 3, 'wx': 3, 'py': 2, 'doug': 9, 'egan': 2, 'tsacellarorg': 6, 'silent': 8, 'assassin': 6, 'quickdraw': 6, 'front': 11, 'disadvantag': 4, 'opposit': 12, 'vision': 19, 'career': 4, 'scholar': 3, 'hastonutkvxutkedu': 5, 'haston': 3, 'wayn': 15, 'church': 4, 'suitabl': 9, 'bulletin': 7, 'lau': 4, 'molecular': 11, 'clone': 7, 'stay': 10, 'presum': 7, 'zoom': 16, 'remark': 6, 'freewar': 8, 'skeptic': 5, 'reserv': 9, 'chicago': 13, 'consum': 5, 'booth': 8, 'walk': 9, 'captur': 27, 'radious': 4, 'supermac': 5, 'xxx': 7, 'wasnt': 8, 'anymor': 9, 'lcii': 4, 'spoil': 4, 'hardisk': 4, 'clarifi': 5, 'tad': 4, 'mm': 6, 'owner': 8, 'sig': 11, 'sethnorthacpubdukeedu': 5, 'seth': 5, 'wandersman': 5, 'gotten': 8, 'khannovagmiedu': 2, 'mohammad': 5, 'khan': 3, 'hexagon': 3, 'grid': 17, 'slope': 4, 'tmcspartanacbrockuca': 21, 'tim': 15, 'ciceran': 10, 'oakoaklandedu': 6, 'pubmsdosgraph': 5, 'grfwktzip': 5, 'tmc': 11, 'procedur': 22, 'asm': 9, 'ah': 6, 'thinmannetcomcom': 3, 'hsv': 7, 'yuv': 6, 'continu': 17, 'surpris': 5, 'analog': 5, 'wisdom': 4, 'smallest': 4, 'seek': 6, 'tricki': 5, 'exploit': 10, 'boundari': 10, 'feed': 7, 'log': 12, 'rom': 8, 'unsupport': 7, 'undocu': 5, 'medic': 17, 'tdawsonenginumichedu': 14, 'herringshaw': 18, 'daemon': 14, 'rick': 12, 'visiond': 3, 'bourk': 6, 'pdbourkeccuauklandacnz': 3, 'wast': 10, 'nfotisntuagr': 7, 'nick': 8, 'foti': 8, 'archivenam': 11, 'graphicsresourceslistpart': 6, 'lastmodifi': 9, 'vms': 9, 'freeli': 18, 'compsourcesmisc': 8, 'everywher': 7, 'devot': 5, 'xvgr': 4, 'xmgr': 5, 'acegr': 3, 'openwindow': 6, 'xview': 10, 'motif': 12, 'turner': 13, 'constraint': 6, 'robot': 10, 'fc': 4, 'vg': 4, 'xgobi': 4, 'analysi': 34, 'athena': 3, 'widget': 15, 'charg': 13, 'statlib': 4, 'cmu': 4, 'bodi': 24, 'warn': 11, 'copyright': 26, 'fee': 27, 'budapest': 2, 'usd': 4, 'alan': 9, 'court': 9, 'bond': 7, 'vbeta': 2, 'axe': 4, 'scalabl': 6, 'style': 6, 'solid': 12, 'legend': 4, 'exportlcsmitedu': 13, 'sciplot': 2, 'export': 17, 'logarithm': 3, 'editor': 33, 'subtract': 9, 'fft': 5, 'differenti': 6, 'plplot': 2, 'despit': 5, 'mesh': 16, 'chart': 9, 'distinct': 6, 'greek': 3, 'alphabet': 3, 'symbol': 4, 'metafil': 7, 'hpux': 6, 'unico': 2, 'mauric': 4, 'filenam': 9, 'gle': 3, 'tek': 4, 'latex': 5, 'userdefin': 4, 'glelist': 4, 'macbas': 4, 'multiplatform': 3, 'imdisp': 2, 'jpl': 7, 'dimens': 11, 'labview': 2, 'framework': 4, 'element': 16, 'wire': 10, 'filter': 35, 'statist': 6, 'vi': 3, 'act': 8, 'plugin': 5, 'dsp': 6, 'nbdsp': 2, 'ffts': 4, 'spectra': 4, 'vis': 5, 'highest': 11, 'eas': 6, 'kit': 9, 'ultimag': 2, 'famili': 13, 'remot': 15, 'quantit': 6, 'histogram': 8, 'frequenc': 3, 'morpholog': 10, 'densiti': 6, 'character': 10, 'pict': 9, 'lookup': 7, 'among': 28, 'dilat': 4, 'perimet': 2, 'macro': 2, 'script': 18, 'valley': 8, 'mask': 10, 'alter': 17, 'sharpen': 4, 'mass': 4, 'santa': 9, 'iplab': 4, 'lack': 17, 'cycl': 15, 'macintoshbas': 2, 'ncsa': 6, 'aim': 9, 'ftpncsauiucedu': 8, 'spyglass': 5, 'champaign': 4, 'il': 7, 'nih': 6, 'zippynimhnihgov': 2, 'grabber': 8, 'record': 23, 'convolut': 7, 'matrix': 14, 'quantiti': 4, 'blue': 9, 'pixeltool': 2, 'tclimag': 2, 'highresolut': 7, 'abil': 19, 'knoxvill': 5, 'tn': 6, 'satellit': 14, 'jet': 9, 'propuls': 5, 'grove': 5, 'workbench': 4, 'lowel': 5, 'eras': 4, 'pencil': 4, 'brush': 3, 'red': 14, 'ghost': 5, 'overlay': 10, 'balanc': 4, 'modif': 12, 'blur': 8, 'storm': 5, 'epsf': 3, 'iffilbm': 4, 'compuserv': 14, 'macpaint': 5, 'ct': 8, 'colorstudio': 2, 'imagestudio': 2, 'letraset': 2, 'accomplish': 11, 'dappl': 2, 'global': 22, 'interpret': 12, 'oliv': 4, 'ave': 9, 'darkroom': 2, 'polylin': 8, 'portion': 15, 'dimpl': 2, 'lc': 4, 'erda': 4, 'supervis': 2, 'unsupervis': 2, 'classif': 6, 'rectif': 6, 'stage': 10, 'inbuilt': 2, 'pull': 9, 'des': 4, 'configur': 18, 'sophist': 5, 'cell': 4, 'instruct': 15, 'movement': 7, 'conduct': 7, 'identifi': 9, 'analyz': 6, 'recogn': 9, 'roi': 2, 'analyt': 6, 'mapl': 5, 'va': 6, 'gis': 7, 'ccd': 3, 'thesi': 10, 'becam': 4, 'highway': 4, 'atlanta': 6, 'ga': 6, 'rsvga': 2, 'ltd': 8, 'columbia': 7, 'landsat': 6, 'starter': 9, 'amount': 28, 'multipli': 7, 'simultan': 10, 'barbara': 5, 'vista': 5, 'richmond': 5, 'pcvista': 2, 'substanti': 3, 'nine': 9, 'inch': 7, 'continent': 4, 'princeton': 4, 'forth': 4, 'pcrelat': 5, 'maxen': 2, 'canadian': 6, 'maximum': 15, 'entropi': 5, 'deconvolut': 2, 'astronomi': 6, 'feb': 4, 'jandel': 4, 'java': 2, 'csiro': 3, 'asid': 11, 'licenc': 11, 'subsequ': 4, 'cheaper': 7, 'worldwid': 5, 'microimag': 2, 'terramar': 6, 'fanci': 8, 'iraf': 8, 'facil': 24, 'observatori': 2, 'az': 2, 'tucananoaoedu': 4, 'stsciedu': 4, 'astronom': 8, 'communiti': 16, 'newslett': 7, 'ton': 5, 'feet': 4, 'aip': 2, 'sciastrofit': 3, 'nrao': 2, 'radio': 6, 'nm': 5, 'exabyt': 4, 'dat': 5, 'telescop': 4, 'synthesi': 5, 'xbase': 5, 'xas': 2, 'alliant': 4, 'hpxx': 5, 'rewrit': 4, 'wherea': 7, 'proprietari': 16, 'nsf': 5, 'contribut': 25, 'india': 7, 'sunview': 9, 'lisp': 8, 'medicin': 7, 'biolog': 11, 'prof': 5, 'rue': 4, 'du': 4, 'figaro': 5, 'sam': 6, 'mbyte': 5, 'categori': 10, 'disimp': 2, 'rich': 7, 'modular': 3, 'progress': 23, 'princip': 6, 'govern': 8, 'stretch': 9, 'pan': 7, 'geograph': 11, 'essenti': 19, 'referenc': 5, 'imageri': 12, 'flexibl': 15, 'avhrr': 4, 'navig': 4, 'weather': 6, 'hip': 3, 'landi': 2, 'multiband': 4, 'grow': 5, 'usercontribut': 2, 'fourier': 5, 'transmiss': 6, 'apollo': 8, 'tower': 4, 'consol': 4, 'ip': 6, 'datacub': 4, 'max': 12, 'magnet': 3, 'tar': 10, 'cartridg': 10, 'tion': 4, 'mira': 2, 'montreal': 5, 'beast': 4, 'nfoti': 6, 'gui': 12, 'keystrok': 5, 'nativ': 6, 'uncompress': 11, 'float': 14, 'accuraci': 8, 'cursor': 13, 'magnifi': 5, 'pseudocolor': 4, 'polynomi': 2, 'combin': 29, 'median': 4, 'sobel': 5, 'weight': 7, 'field': 27, 'bias': 4, 'defect': 7, 'collaps': 5, 'renam': 4, 'circular': 4, 'photometri': 2, 'isophot': 4, 'lumin': 4, 'crosshair': 6, 'transfer': 24, 'offset': 12, 'resampl': 4, 'enlarg': 9, 'quadrat': 3, 'substitut': 5, 'printout': 4, 'laserjet': 4, 'tucson': 2, 'nikolao': 7, 'athen': 8, 'greec': 16, 'esperidon': 7, 'nfotistheseasntuagr': 7, 'halandri': 7, 'gr': 10, 'mcsunariadnetheseasnfoti': 7, 'generatorsgeograph': 4, 'datamapsdata': 4, 'dem': 6, 'elev': 9, 'cartograph': 3, 'spectrumxeroxcom': 3, 'moor': 4, 'xerox': 6, 'usg': 8, 'bureau': 8, 'defens': 2, 'cooper': 10, 'coastlin': 3, 'town': 7, 'iso': 4, 'geolog': 4, 'denver': 2, 'energi': 6, 'ottawa': 3, 'director': 2, 'avenu': 8, 'kingdom': 4, 'armi': 2, 'lui': 3, 'forget': 15, 'cia': 4, 'topolog': 5, 'hanaumastanfordedu': 6, 'ucsdedu': 4, 'polit': 4, 'degre': 13, 'ncar': 4, 'atmospher': 3, 'terrain': 14, 'dataset': 9, 'mri': 3, 'scan': 46, 'omicroncsuncedu': 5, 'pubsoftlabchvrtd': 5, 'mission': 10, 'vike': 4, 'magellan': 4, 'venus': 2, 'catalog': 7, 'telnet': 8, 'nodi': 2, 'dial': 4, 'baud': 6, 'pariti': 5, 'stop': 15, 'carriag': 2, 'usernam': 6, 'comprehens': 4, 'amesarcnasagov': 9, 'pubspacecdrom': 4, 'pubspaceindex': 4, 'archiveserveramesarcnasagov': 4, 'amesarchiveserv': 4, 'capit': 5, 'shut': 4, 'daili': 9, 'boulder': 4, 'discount': 5, 'radar': 2, 'pic': 17, 'pioneerunmedu': 4, 'planetari': 4, 'campus': 8, 'dataimag': 4, 'broadway': 4, 'mss': 2, 'tm': 4, 'meter': 6, 'alphashap': 4, 'grip': 2, 'gov': 4, 'raster': 32, 'nrcc': 2, 'laser': 7, 'cyberwar': 7, 'polhemus': 2, 'vpl': 2, 'dataglov': 4, 'ascens': 2, 'boat': 6, 'nevertheless': 4, 'utah': 17, 'bird': 6, 'tracker': 2, 'vt': 4, 'hercul': 3, 'shoot': 9, 'burnabi': 2, 'spacebal': 4, 'brick': 2, 'mit': 9, 'lane': 11, 'pasadena': 5, 'imagerytexturesdatafil': 4, 'epson': 4, 'scsi': 6, 'rt': 4, 'hous': 11, 'stock': 6, 'belveder': 2, 'inclus': 4, 'rome': 5, 'mannikin': 2, 'sceptr': 2, 'iff': 22, 'fl': 4, 'essenc': 5, 'el': 5, 'andrew': 18, 'glassner': 7, 'academ': 14, 'errata': 6, 'ericheyecom': 5, 'foundat': 6, 'depthbuff': 4, 'roger': 12, 'teapot': 6, 'stori': 8, 'sep': 3, 'blinn': 3, 'spd': 4, 'shuttl': 8, 'tolisnovastanfordedu': 2, 'datafil': 5, 'vertex': 8, 'payload': 2, 'gondwanaecrmuozau': 6, 'greg': 5, 'annot': 11, 'touchup': 4, 'rasterfil': 4, 'idraw': 4, 'interview': 5, 'macdraw': 3, 'tgif': 6, 'xbm': 6, 'xpm': 4, 'pbmplus': 17, 'pub': 5, 'overlaid': 6, 'ice': 2, 'pubicetarz': 2, 'properti': 10, 'composit': 24, 'fashion': 8, 'imagemagick': 12, 'pen': 6, 'contribimagemagicktarz': 5, 'nearest': 9, 'contrib': 9, 'supercomput': 15, 'volumetr': 3, 'pprgeeceunmedu': 5, 'pubkhoro': 4, 'dd': 4, 'eec': 4, 'infomacapp': 2, 'compuservecom': 5, 'visualis': 15, 'swedishcheflercnasagov': 4, 'gone': 14, 'ohio': 7, 'cluster': 5, 'iii': 7, 'av': 6, 'stardent': 4, 'wavetrac': 2, 'fifth': 4, 'pacif': 6, 'avsncscorg': 4, 'scivi': 4, 'employ': 20, 'broadcast': 7, 'strategi': 5, 'objectori': 4, 'pooneeubcca': 2, 'visd': 2, 'irix': 6, 'gs': 2, 'bye': 4, 'wavefront': 5, 'wilson': 13, 'europ': 8, 'belgium': 4, 'bldg': 4, 'ymp': 5, 'idl': 3, 'sip': 2, 'colorado': 3, 'goetz': 2, 'aviri': 2, 'pcw': 2, 'megabyt': 7, 'numbercrunch': 2, 'clean': 7, 'versus': 4, 'investig': 9, 'fluid': 4, 'xtermin': 4, 'intellig': 7, 'scian': 2, 'pubscian': 2, 'scri': 4, 'transport': 11, 'johnston': 4, 'robertson': 4, 'svlib': 2, 'fvs': 2, 'osf': 3, 'button': 5, 'osfmotif': 4, 'seamless': 4, 'hdf': 4, 'republ': 4, 'gvlware': 2, 'raz': 4, 'icol': 4, 'gvl': 4, 'ftparcumnedu': 4, 'pubgvltarz': 4, 'subsampl': 5, 'partit': 3, 'contract': 6, 'minnesota': 8, 'cine': 3, 'cristi': 5, 'flex': 2, 'la': 5, 'trajectori': 3, 'bind': 6, 'atom': 11, 'master': 6, 'unixxmotif': 9, 'kgngraf': 2, 'motecc': 2, 'troff': 3, 'agreement': 4, 'lib': 7, 'xmol': 4, 'pdb': 4, 'probe': 6, 'affin': 6, 'orbit': 6, 'laaksonen': 3, 'multi': 4, 'mindtool': 2, 'grass': 5, 'cerl': 4, 'budget': 8, 'userfriend': 4, 'review': 22, 'vexcel': 2, 'ogi': 2, 'canon': 3, 'attract': 6, 'tutori': 5, 'betatest': 5, 'correspond': 6, 'listserv': 5, 'subset': 5, 'particip': 26, 'content': 21, 'microst': 3, 'intergraph': 3, 'heavi': 7, 'flavor': 4, 'ih': 2, 'layer': 11, 'rumor': 7, 'pci': 4, 'ten': 6, 'remotesens': 2, 'thirdparti': 3, 'channel': 14, 'expertis': 5, 'interleav': 4, 'targa': 28, 'screw': 4, 'nth': 4, 'observ': 17, 'spectral': 6, 'builtin': 8, 'suffic': 4, 'gap': 4, 'countri': 4, 'spam': 4, 'airborn': 2, 'spectromet': 2, 'clrview': 4, 'arcinfo': 4, 'coverag': 4, 'pubsgiclrview': 4, 'pitmanagermitedu': 3, 'alia': 7, 'rtfmmitedu': 6, 'pubusenetnewsansw': 2, 'mailserverpitmanagermitedu': 3, 'remain': 6, 'griegg': 4, 'grieggsjpldevvaxjplnasagov': 3, 'offici': 17, 'graphicsori': 2, 'bbses': 5, 'raytracinggraphicsrel': 2, 'crosspost': 7, 'compansw': 3, 'newsansw': 6, 'sysadmin': 5, 'inriagraphlib': 4, 'wai': 4, 'nicswitchch': 3, 'infoserviceusenetperiodicpost': 2, 'fetch': 10, 'ger': 3, 'israel': 3, 'ne': 6, 'janet': 12, 'queri': 11, 'dkb': 2, 'buck': 3, 'davidbuckcarletonca': 2, 'vort': 6, 'rtrace': 10, 'csg': 2, 'djgpp': 7, 'xdart': 2, 'inetray': 2, 'rpc': 2, 'andrea': 10, 'thurnherr': 2, 'antipsidethzch': 2, 'prt': 2, 'vmpray': 2, 'vrend': 2, 'cornel': 6, 'radios': 20, 'radianc': 3, 'ward': 2, 'unixx': 4, 'indian': 3, 'sgirad': 2, 'rad': 4, 'bernard': 3, 'tclsipp': 2, 'tcl': 3, 'rle': 18, 'vogl': 4, 'rend': 7, 'photorealist': 4, 'xsharp': 4, 'dobb': 4, 'irit': 6, 'freeform': 2, 'xd': 3, 'dv': 4, 'pvd': 2, 'french': 6, 'salem': 3, 'glbase': 2, 'geomview': 2, 'geobench': 2, 'nff': 4, 'lispi': 2, 'tddd': 3, 'ttdddlib': 2, 'framemak': 2, 'mif': 2, 'isometr': 4, 'tex': 7, 'pk': 3, 'glenn': 2, 'glewispcocdintelcom': 2, 'brain': 17, 'knee': 5, 'bib': 6, 'illumin': 8, 'speer': 5, 'jkcstutfi': 3, 'bibliographi': 6, 'bibtex': 3, 'siggraphorg': 8, 'perus': 4, 'offlin': 5, 'archiveserversiggraphorg': 3, 'libtiff': 3, 'xloadimag': 19, 'xli': 13, 'fbm': 5, 'img': 6, 'gifa': 3, 'sdsc': 2, 'clrpaint': 2, 'kaleido': 2, 'uniform': 7, 'polyhedra': 9, 'distributor': 4, 'america': 4, 'ttddd': 2, 'mirrorsmsdosgraph': 5, 'raytrack': 2, 'pubradtarz': 2, 'rtn': 2, 'roy': 6, 'kyriazi': 2, 'kyriazisturingcsrpiedu': 2, 'princetonedu': 3, 'pubgraph': 5, 'kolb': 4, 'weedeatermathyaleedu': 3, 'upload': 12, 'repositori': 4, 'francisco': 2, 'adrian': 6, 'ron': 6, 'gjwardlblgov': 2, 'zamenhofcsriceedu': 4, 'pubgraphicsformat': 4, 'pubimag': 2, 'ftppscedu': 3, 'pubpd': 2, 'ftpeelblgov': 3, 'jef': 3, 'poskanz': 3, 'dbw': 2, 'qrt': 5, 'ftpuunet': 8, 'nurb': 4, 'ncga': 3, 'gpc': 2, 'painter': 5, 'randi': 4, 'rost': 2, 'rostkpccom': 2, 'hubcapclemsonedu': 2, 'ravel': 3, 'leffler': 4, 'ftpbrlmil': 2, 'brlcad': 4, 'brl': 2, 'brodatz': 2, 'karazmmathuhedu': 3, 'jame': 22, 'suneeuwaterlooca': 6, 'msdosgraph': 8, 'mailer': 2, 'finger': 10, 'veo': 4, 'lcd': 7, 'glass': 7, 'sugrfxacssyredu': 2, 'stereopair': 2, 'aerial': 4, 'swatch': 2, 'srgpsphig': 2, 'chemistri': 4, 'hubbl': 2, 'compgraphicsresearch': 4, 'disappear': 8, 'jari': 2, 'pubgraphicsraytrac': 4, 'scatter': 4, 'asterixinescnpt': 5, 'pubrtrac': 5, 'scn': 3, 'antonio': 4, 'costa': 4, 'accasterixinescnpt': 4, 'miscunixralcgmralcgmtarz': 3, 'amigaphysikunizhch': 5, 'passwd': 3, 'middl': 4, 'berni': 3, 'algebra': 6, 'marshcscurtineduau': 3, 'facial': 6, 'fred': 2, 'ftpmail': 7, 'onelin': 2, 'complaint': 7, 'postmast': 2, 'bitnet': 10, 'lightwav': 10, 'maillist': 4, 'atari': 9, 'resid': 7, 'vbisvbi': 3, 'bps': 3, 'pack': 7, 'uuencod': 9, 'dir': 9, 'launch': 9, 'echo': 7, 'inriagraphlibinriafr': 2, 'jeff': 12, 'castl': 2, 'join': 19, 'lindaburi': 4, 'zyxel': 5, 'vbis': 2, 'netmail': 3, 'subscript': 3, 'tgas': 5, 'caller': 4, 'newtek': 5, 'toaster': 6, 'lightwaverequestbobsboxrentcom': 4, 'lightwavebobsboxrentcom': 4, 'alladin': 2, 'dkbl': 4, 'massiv': 4, 'analys': 4, 'aberdeen': 2, 'dmod': 2, 'sterl': 4, 'height': 9, 'icoon': 2, 'gnu': 11, 'journeyman': 2, 'sweep': 4, 'tune': 5, 'gibson': 3, 'trim': 5, 'flatten': 6, 'fem': 2, 'presid': 4, 'salt': 3, 'lake': 2, 'ut': 4, 'psl': 2, 'professor': 7, 'vertigo': 4, 'theyll': 9, 'donat': 7, 'qualifi': 4, 'peripher': 10, 'annual': 8, 'georgia': 5, 'ithaca': 7, 'aci': 2, 'owen': 4, 'cquelbyu': 2, 'eng': 8, 'pronounc': 5, 'blank': 8, 'twixt': 4, 'vaytek': 2, 'neutral': 5, 'null': 4, 'godzillacglrmitozau': 5, 'ala': 4, 'pbm': 11, 'slight': 28, 'ansi': 10, 'ext': 7, 'hiddenlin': 5, 'hacker': 28, 'delux': 5, 'settl': 5, 'bryanwrahulnet': 7, 'bryan': 11, 'woodworth': 7, 'arno': 3, 'schaefer': 3, 'vgalib': 5, 'linux': 11, 'amaz': 7, 'seanwhitingmcscom': 4, 'gum': 4, 'stupid': 9, 'ho': 7, 'painless': 6, 'addsciencessdsuedu': 5, 'usabl': 4, 'ftpapplecom': 5, 'hartmann': 2, 'sigmarahulnet': 5, 'omit': 4, 'affect': 8, 'thread': 10, 'fault': 6, 'hat': 6, 'ospreyuxcsouiucedu': 8, 'luca': 9, 'adamski': 8, 'dead': 9, 'totten': 3, 'howdi': 4, 'programmeranalyst': 4, 'trent': 5, 'peterborough': 5, 'women': 3, 'men': 4, 'rbarrisorionoacuciedu': 3, 'blocki': 8, 'inde': 8, 'plenti': 6, 'stack': 5, 'dpgview': 3, 'swap': 5, 'cloth': 9, 'dig': 4, 'craigtoontowncolumbiascncrcom': 3, 'williamson': 3, 'divin': 6, 'acorn': 4, 'graduat': 10, 'ben': 3, 'dicta': 1, 'decemb': 6, 'establish': 3, 'invit': 7, 'speaker': 8, 'pari': 4, 'canberra': 3, 'concentr': 5, 'neural': 8, 'illustr': 19, 'nsw': 4, 'notifi': 4, 'social': 5, 'thursday': 3, 'arrang': 8, 'beauti': 7, 'bridg': 3, 'tour': 5, 'accommod': 7, 'hotel': 5, 'chequ': 3, 'cc': 7, 'januari': 4, 'tglcscmuedu': 4, 'clarif': 4, 'pmjpeg': 3, 'stick': 4, 'hoopla': 3, 'lossless': 5, 'argument': 9, 'accumul': 7, 'compressiondecompress': 3, 'mailserverrtfmmitedu': 4, 'committe': 11, 'fullcolor': 3, 'realworld': 6, 'cartoon': 4, 'bitperpixel': 3, 'jbig': 3, 'lossi': 6, 'achiev': 11, 'perceiv': 5, 'invis': 4, 'trade': 9, 'thumbnail': 4, 'icon': 5, 'transmit': 8, 'kbyte': 3, 'jpegcap': 3, 'tradeoff': 3, 'shorter': 4, 'greater': 8, 'obsolet': 7, 'furthermor': 10, 'appropri': 18, 'displac': 6, 'sharp': 9, 'adjac': 4, 'tend': 13, 'objection': 3, 'fall': 11, 'justifi': 5, 'handi': 7, 'overhead': 5, 'ppmquant': 5, 'fs': 5, 'sec': 5, 'shipjpg': 3, 'indistinguish': 3, 'mighti': 3, 'jpege': 6, 'characterist': 7, 'djpeg': 4, 'poorer': 3, 'satisfactori': 6, 'tini': 5, 'widespread': 7, 'lowest': 3, 'degrad': 6, 'toler': 8, 'usenetnewsanswersfindingsourc': 4, 'systemspecif': 4, 'bradley': 8, 'ijg': 4, 'hiview': 3, 'qemm': 5, 'colorview': 4, 'harder': 6, 'behavior': 6, 'fullview': 4, 'inferior': 4, 'wellknown': 5, 'compushow': 4, 'cshow': 9, 'revis': 5, 'intermedi': 4, 'reput': 5, 'ftpabl': 6, 'handmad': 3, 'jpeggif': 3, 'gifjpgjpggif': 3, 'usenetstandard': 3, 'jfif': 5, 'hsiformat': 3, 'prior': 4, 'hsi': 6, 'readabl': 7, 'nonpc': 3, 'nonunix': 4, 'weird': 5, 'milnet': 4, 'retriev': 10, 'habit': 3, 'jview': 3, 'ftpcicaindianaedu': 3, 'winjpeg': 5, 'nifti': 4, 'slideshow': 4, 'rough': 9, 'contend': 4, 'moder': 6, 'pmview': 3, 'qt': 6, 'margin': 4, 'corrupt': 6, 'pictjpeg': 3, 'jpegview': 6, 'gifconvert': 3, 'viewerconvert': 3, 'pictpixi': 3, 'trash': 3, 'aminet': 5, 'hamlab': 4, 'crop': 23, 'ilbm': 7, 'amigado': 3, 'viewtek': 3, 'cinemorph': 3, 'atariarchiveumichedu': 3, 'dutch': 5, 'readwrit': 7, 'graphicsjpeg': 4, 'cope': 3, 'tarz': 4, 'jpegrel': 3, 'acknowledg': 11, 'warranti': 10, 'stuck': 4, 'impact': 3, 'smear': 4, 'nearbi': 3, 'incident': 5, 'roundoff': 5, 'occasion': 4, 'hasnt': 9, 'quantiz': 14, 'sender': 11, 'highqual': 3, 'match': 8, 'ega': 6, 'huffman': 4, 'bitforbit': 3, 'patent': 4, 'strict': 5, 'jpegbas': 3, 'interchang': 6, 'lowend': 6, 'tiffjpeg': 3, 'aldus': 7, 'histor': 5, 'incompat': 4, 'mix': 9, 'adher': 4, 'adopt': 8, 'vagu': 5, 'wrap': 4, 'nonhsi': 3, 'flame': 11, 'inspect': 4, 'hex': 7, 'ff': 5, 'asi': 4, 'percent': 8, 'files': 4, 'cite': 4, 'legal': 9, 'recompress': 6, 'optimist': 5, 'throw': 5, 'sixteen': 4, 'candid': 6, 'chew': 4, 'favor': 21, 'xvs': 6, 'illus': 5, 'pnmconvol': 3, 'uknxmikukyedu': 4, 'glen': 3, 'fullmer': 3, 'entiti': 6, 'string': 5, 'mscraphalcyoncom': 2, 'lyall': 6, 'arthur': 6, 'somebodi': 13, 'grab': 6, 'cool': 12, 'woman': 4, 'appsoft': 2, 'choke': 4, 'editori': 3, 'benson': 3, 'audio': 6, 'dgfquadsuchicagoedu': 5, 'gave': 6, 'farley': 6, 'jrl': 5, 'dgfmidwayuchicagoedu': 5, 'illinoi': 10, 'edimgwillardatlgaus': 3, 'pimentel': 4, 'distant': 5, 'profit': 4, 'rfd': 3, 'otg': 3, 'telemat': 6, 'naplp': 3, 'flc': 6, 'setup': 6, 'decent': 6, 'parametr': 15, 'ldowaikatoacnz': 3, 'doliveiro': 3, 'waikato': 4, 'hamilton': 4, 'edcwisunomahaedu': 3, 'stastni': 3, 'borrow': 4, 'globe': 4, 'gate': 8, 'english': 13, 'oti': 4, 'pubmultimediapicturesoti': 3, 'omaha': 4, 'projectsoti': 3, 'edsunsiteuncedu': 3, 'alansaturncsswinozau': 4, 'christiansen': 4, 'rickywatsonibmcom': 5, 'hunt': 6, 'cbwixerbgacom': 4, 'cyberspac': 5, 'buddha': 4, 'beg': 7, 'batch': 6, 'cds': 4, 'attent': 6, 'chair': 5, 'nbatamvmtamuedu': 3, 'benefit': 7, 'hpgl': 7, 'andreasadhhaldenno': 4, 'arff': 7, 'compgraphicsprogramm': 4, 'cg': 8, 'mysteri': 4, 'disregard': 4, 'seldom': 6, 'prize': 7, 'marco': 4, 'seirio': 4, 'res': 5, 'laboratoir': 2, 'es': 6, 'dominik': 3, 'andi': 5, 'amanniamunibech': 3, 'stephan': 4, 'amann': 3, 'mile': 5, 'murphi': 5, 'clldompscsruunl': 5, 'loui': 6, 'dompselaar': 5, 'hang': 7, 'boebertsctccom': 4, 'earl': 4, 'boebert': 4, 'click': 7, 'expans': 3, 'referencexi': 2, 'treat': 7, 'treatment': 4, 'haavard': 3, 'jpg': 11, 'cheer': 13, 'trondheim': 3, 'norway': 4, 'lionessmaplecircaufledu': 12, 'pain': 5, 'split': 38, 'afraid': 5, 'reinhard': 4, 'nishantha': 3, 'xfig': 3, 'acmsiggraph': 2, 'pace': 4, 'disciplin': 6, 'psycholog': 3, 'context': 4, 'saturday': 2, 'ft': 4, 'status': 5, 'lunch': 4, 'radic': 8, 'compos': 6, 'marc': 9, 'jone': 5, 'xia': 4, 'matthew': 5, 'stuart': 4, 'somehow': 4, 'toward': 7, 'motiv': 4, 'jr': 3, 'meyer': 6, 'reconstruct': 5, 'schmidt': 3, 'sheet': 5, 'wate': 13, 'jw': 1, 'levin': 4, 'cabl': 4, 'cusp': 8, 'quvdoinnesrvrenginumichedu': 7, 'ball': 6, 'discard': 4, 'rigbi': 4, 'uv': 3, 'iabwwoeinckwaterlandwlinknl': 5, 'maureen': 5, 'stone': 5, 'djlewisualredu': 2, 'eyler': 3, 'brand': 9, 'eylerkenuwashingtonedu': 3, 'corey': 2, 'webb': 3, 'clp': 6, 'experienc': 4, 'jimi': 4, 'grade': 4, 'multipag': 3, 'eapuorionoacuciedu': 2, 'particl': 2, 'virus': 3, 'addresseicnetnach': 4, 'goex': 7, 'perret': 4, 'ecol': 7, 'unabl': 5, 'markusoctaviaanueduau': 2, 'buchhorn': 2, 'gday': 5, 'mmotion': 4, 'sci': 8, 'fleme': 3, 'ipx': 5, 'sepshbrunelacuk': 3, 'hauk': 3, 'joachimkihno': 10, 'joachim': 7, 'lous': 7, 'reveal': 5, 'adam': 10, 'wdmworldstdcom': 6, 'psygnosi': 4, 'neroneccwfccutexasedu': 4, 'neron': 4, 'csamiga': 3, 'readili': 9, 'plagu': 4, 'megacrosspost': 4, 'groupsplit': 4, 'likelihood': 5, 'oblig': 4, 'fiction': 4, 'galileo': 4, 'cgcadbartinescnpt': 5, 'chemic': 3, 'newspap': 5, 'gerhard': 2, 'ware': 3, 'comerci': 6, 'traffic': 5, 'sincer': 4, 'gordon': 3, 'miniva': 1, 'abeka': 2, 'went': 8, 'capellivnetibmcom': 4, 'deros': 4, 'tog': 4, 'obertogenesicgebtriesteit': 2, 'jacqu': 2, 'oberto': 2, 'dvx': 3, 'skip': 5, 'preston': 6, 'lisa': 4, 'worst': 5, 'tdawsonllullaillacoenginumichedu': 4, 'geospher': 4, 'whenev': 5, 'creativ': 13, 'tremend': 5, 'pseudo': 4, 'closer': 6, 'app': 8, 'warrant': 5, 'con': 9, 'meant': 4, 'premier': 3, 'crystal': 3, 'bitraster': 1, 'bitquantizedraster': 3, 'achiv': 6, 'expon': 1, 'feedback': 6, 'danni': 4, 'srlnjalgracecrinz': 5, 'coreldraw': 11, 'scodal': 8, 'zhao': 4, 'refin': 4, 'facilit': 6, 'guest': 6, 'king': 2, 'fortytwo': 5, 'alic': 2, 'invent': 5, 'ought': 5, 'polyn': 2, 'yooengrucfedu': 2, 'hoi': 2, 'ribbon': 3, 'ftped': 5, 'dam': 8, 'foley': 8, 'feiner': 6, 'chain': 6, 'push': 6, 'lifespan': 3, 'age': 3, 'nobodi': 4, 'unreason': 4, 'jrevealbanyedu': 2, 'csssgbrunelacuk': 3, 'sunil': 3, 'gupta': 4, 'fombaron': 4, 'tobi': 2, 'slide': 11, 'paintbrush': 3, 'iv': 4, 'mzmoscomcom': 4, 'zenkar': 4, 'monday': 4, 'galleri': 3, 'bin': 7, 'sase': 2, 'theyd': 4, 'gain': 8, 'clipart': 6, 'phil': 3, 'braun': 2, 'chrissarahlercnasagov': 2, 'akron': 1, 'brookpark': 3, 'cleveland': 4, 'resist': 4, 'bspline': 3, 'shop': 11, 'uncl': 3, 'beaverrotqcca': 5, 'boivert': 5, 'usedheard': 5, 'finetun': 5, 'boisvert': 4, 'hart': 3, 'api': 7, 'tgs': 3, 'hoop': 3, 'tlccxcom': 3, 'scf': 8, 'rix': 7, 'horizont': 4, 'projector': 4, 'cartwright': 5, 'markcemxutexasedu': 5, 'silli': 13, 'awar': 8, 'ear': 5, 'torgeir': 3, 'veimo': 3, 'bergen': 5, 'kardankereumontrealca': 3, 'kardan': 3, 'kaveh': 3, 'prestonmcsmanacuk': 4, 'pl': 12, 'stealth': 4, 'xxbit': 5, 'cuhimjfqrotqcca': 4, 'photostyl': 4, 'larri': 5, 'rueddaimiaaudk': 4, 'ru': 4, 'hijaak': 5, 'showcas': 5, 'xlib': 4, 'bockampinformatiktumuenchend': 4, 'florian': 2, 'bockamp': 2, 'pg': 2, 'cv': 2, 'ooo': 5, 'unnecessari': 6, 'emphasi': 3, 'emul': 12, 'redgreen': 5, 'estim': 4, 'pz': 2, 'kirk': 6, 'doughparcaushpcom': 5, 'parson': 5, 'douginoz': 4, 'ccmail': 1, 'dream': 7, 'roland': 3, 'ridoutbinkplkafmil': 4, 'ridout': 4, 'aprmfltdcouk': 4, 'schwartzilsnwuedu': 2, 'dian': 4, 'schwartz': 4, 'sigkid': 3, 'museum': 3, 'contributor': 4, 'delay': 7, 'collabor': 4, 'marino': 3, 'playmat': 4, 'craighumphreycompvuwacnz': 4, 'subdivis': 4, 'weiler': 2, 'straight': 7, 'dame': 5, 'aron': 4, 'bonar': 4, 'dx': 5, 'inunlindblatccmonasheduau': 2, 'hhkuxahkuhk': 2, 'abel': 2, 'diablouucpcboesel': 12, 'boesel': 20, 'diablo': 7, 'cboeseldiablouuholonetnet': 7, 'pager': 5, 'congress': 10, 'autotrac': 17, 'templat': 4, 'freehand': 5, 'ubicmoseenctuedutw': 2, 'jihshin': 4, 'damag': 4, 'gemimg': 2, 'macbinari': 6, 'vcpi': 2, 'emu': 2, 'godriv': 2, 'xxxxxxemu': 2, 'etgrn': 2, 'vesagrn': 2, 'matchdoc': 2, 'tag': 10, 'untag': 2, 'rr': 5, 'tab': 2, 'leftright': 2, 'escap': 4, 'altx': 2, 'pgm': 5, 'blackwhit': 3, 'tifflzw': 2, 'sphinx': 3, 'smart': 6, 'bvmcbrtdiablouucp': 4, 'chessboard': 3, 'heightfield': 3, 'lay': 6, 'adequ': 4, 'xxxx': 1, 'ran': 8, 'struct': 1, 'pointstruct': 1, 'xorg': 1, 'yorg': 1, 'zorg': 1, 'pole': 1, 'northi': 1, 'southi': 1, 'rtheta': 1, 'ntheta': 1, 'theta': 1, 'thetastart': 1, 'den': 2, 'thetapi': 1, 'radiuscosrtheta': 1, 'radiussinrtheta': 1, 'pxpxpypypzpz': 1, 'sqrtden': 1, 'nx': 1, 'nz': 2, 'beckirzrinftudresdend': 7, 'beck': 9, 'bevel': 4, 'abpsoft': 7, 'mehl': 7, 'andrebeckirsinftudresdend': 7, 'norwegian': 4, 'endpoint': 3, 'dps': 2, 'jackson': 3, 'gaskin': 5, 'pexlib': 12, 'oreilli': 5, 'sco': 5, 'desktop': 5, 'kiernan': 2, 'miro': 1, 'oehleryarcswiscedu': 4, 'wonko': 4, 'sane': 4, 'computerimag': 4, 'akin': 4, 'infowhat': 4, 'trillion': 5, 'resolv': 4, 'sad': 5, 'danjwelchgatewelchjhuedu': 3, 'jacobson': 3, 'truetyp': 4, 'jump': 7, 'inner': 3, 'trapezoid': 3, 'mgr': 2, 'fun': 9, 'addisonwesley': 3, 'macutkvxbitnet': 4, 'mcdougald': 4, 'photographi': 4, 'ralph': 3, 'munsch': 2, 'die': 7, 'bruce': 2, 'hogan': 1, 'tor': 3, 'ai': 3, 'vernor': 1, 'ving': 1, 'baen': 1, 'german': 5, 'wolfram': 2, 'quantum': 4, 'stutter': 2, 'denman': 3, 'deniaudcartooninriafr': 8, 'deniaud': 8, 'parallax': 8, 'rauno': 3, 'haapaniemi': 3, 'reald': 6, 'hallus': 4, 'kenaidenali': 6, 'mattdahdsvsus': 3, 'mattia': 3, 'principl': 7, 'explan': 4, 'divers': 5, 'luminos': 2, 'destin': 3, 'toy': 2, 'elli': 3, 'span': 5, 'novemb': 4, 'brought': 4, 'altbinariespictur': 3, 'vote': 4, 'protein': 3, 'hawkssequncwiledu': 3, 'hawk': 6, 'thermal': 5, 'dpi': 6, 'changyaw': 2, 'fund': 7, 'baer': 2, 'naplpsjpeg': 2, 'fif': 4, 'nt': 4, 'endeavor': 2, 'notforprofit': 2, 'invalid': 4, 'davidlaecscommmotcom': 2, 'malayt': 6, 'smash': 2, 'broken': 4, 'notr': 4, 'jess': 3, 'ericvitiellotfdcoplexcom': 3, 'elimin': 6, 'protocol': 10, 'ing': 3, 'vatican': 4, 'rcol': 2, 'tcol': 2, 'ocol': 2, 'licol': 4, 'dc': 4, 'shift': 6, 'rychfestivaledacuk': 3, 'restart': 4, 'preserv': 5, 'lilleyvcgumccacuk': 12, 'lilley': 12, 'itti': 10, 'cclilleymccacuk': 13, 'cclilleyukacmcc': 10, 'quantis': 6, 'renaiss': 2, 'cwxbivworldstdcom': 4, 'hey': 4, 'jennif': 6, 'urso': 6, 'setiinriafr': 6, 'ppmtorl': 5, 'jhparkcsutexasedu': 4, 'jihun': 4, 'filegener': 4, 'xloadimagegetx': 4, 'orl': 2, 'ensur': 4, 'kwansik': 4, 'lzw': 3, 'murashieamailbeckmancom': 2, 'matessgsusgigsuedu': 3, 'eliza': 3, 'strickler': 3, 'donwload': 3, 'warren': 3, 'technion': 1, 'scholarship': 4, 'clamp': 3, 'tree': 4, 'nikoiastateedu': 2, 'schuessler': 2, 'enrol': 2, 'turkey': 2, 'compwindowsxpex': 2, 'stitch': 4, 'tossup': 2, 'npc': 2, 'vrc': 2, 'implementor': 3, 'kenai': 1, 'axp': 2, 'denali': 4, 'auxiliari': 5, 'rsa': 4, 'mbsec': 4, 'mps': 1, 'tem': 1, 'cuesta': 1, 'krzysztof': 3, 'zyda': 5, 'envelop': 3, 'powleslaacsucalgaryca': 3, 'powlesland': 3, 'calgari': 3, 'vanc': 2, 'rawtopgm': 2, 'alt': 5, 'booktitl': 1, 'optmonth': 1, 'eighth': 4, 'altgraph': 2, 'bultmandgwrwsnl': 3, 'hls': 3, 'remco': 4, 'hvs': 6, 'adaptivecsnpsnavymil': 3, 'acct': 3, 'stern': 3, 'night': 4, 'shes': 4, 'pmartzdsdescom': 3, 'martz': 3, 'stencil': 4, 'wes': 2, 'aprnessiemccacuk': 7, 'repair': 5, 'hisher': 3, 'windowsvga': 2, 'vl': 1, 'flicker': 4, 'comfort': 4, 'afford': 4, 'hack': 5, 'ruler': 1, 'gg': 1, 'gphig': 1, 'zphig': 1, 'grafpakphig': 1, 'froup': 4, 'overnight': 4, 'kpc': 1, 'misunderstood': 3, 'blind': 7, 'menchettdwsunredu': 6, 'menchetti': 6, 'protanopia': 1, 'chromat': 2, 'synergi': 1, 'revolt': 2, 'sunday': 3, 'midnight': 2, 'hsl': 1, 'frac': 1, 'lx': 1, 'ly': 1, 'lz': 1, 'tempr': 1, 'tempg': 1, 'tempb': 1, 'phcunixbcccolumbiaedu': 4, 'pei': 4, 'hsieh': 4, 'banana': 4, 'rajesh': 2, 'eddi': 2, 'nde': 1, 'udpa': 1, 'iif': 1, 'milespec': 1, 'jean': 2, 'liddl': 2, 'scia': 1, 'tromso': 2, 'nok': 1, 'payment': 4, 'swift': 1, 'giro': 1, 'sas': 1, 'secretariat': 1, 'bodil': 1, 'lauritsen': 1, 'deleg': 3, 'spous': 2, 'airticket': 3, 'fare': 2, 'scandinavia': 1, 'tick': 2, 'weekend': 2, 'piss': 2, 'mis': 2, 'matton': 3, 'toshiba': 4, 'brendan': 2, 'infinid': 3, 'gun': 2, 'brandon': 2, 'kingsley': 2, 'abhgenesisnredmaus': 2, 'debuxacsouiucedu': 3, 'ethic': 16, 'cracker': 3, 'perpetu': 4, 'gradynetcomcom': 3, 'ef': 3, 'auckland': 1, 'olasovcscolumbiaedu': 2, 'olasov': 2, 'rwrwr': 1, 'shark': 4, 'gopherspac': 3, 'veronica': 1, 'genbank': 2, 'enzym': 1, 'duma': 1, 'blueknightbknightjprcom': 3, 'yuri': 3, 'kendal': 2, 'accessbus': 1, 'informatica': 1, 'belief': 3, 'dpoint': 3, 'genlock': 2, 'dorsai': 2, 'hdtv': 3, 'thief': 2, 'voltag': 1, 'ramp': 2, 'parallelogram': 2, 'lieft': 2, 'hedcatsucscedu': 3, 'hierarchi': 6, 'isci': 1, 'viii': 1, 'nagl': 2, 'atm': 4}\n"
     ]
    }
   ],
   "source": [
    "\n",
    "print( vocab_deputy[1])"
   ]
  },
  {
   "cell_type": "code",
   "execution_count": 14,
   "metadata": {},
   "outputs": [
    {
     "name": "stdout",
     "output_type": "stream",
     "text": [
      "[78527, 65610, 56248, 57870, 54307, 65629, 44982, 70541, 69019, 73651, 80956, 98998, 63750, 89041, 89660, 109371, 98511, 132383, 92505, 63632]\n",
      "1555191\n"
     ]
    }
   ],
   "source": [
    "print(len_label)   #每个class文档中出现的词所对应的出现文档数之和（一个词在一个文档中只计算一次）\n",
    "print(sum(len_label))"
   ]
  },
  {
   "cell_type": "code",
   "execution_count": 15,
   "metadata": {},
   "outputs": [],
   "source": [
    "D={}    \n",
    "for key in keys_labels:    \n",
    "    D.update(vocab_deputy[key])   #合并20个字典"
   ]
  },
  {
   "cell_type": "code",
   "execution_count": 16,
   "metadata": {},
   "outputs": [
    {
     "name": "stdout",
     "output_type": "stream",
     "text": [
      "[12, 'rubincisohiostateedu', 'hi', 'line', 'work', 'express', 'love', 'purchas', 'buck', 'style', 'great', 'number', 'dan', 'profession', 'go', 'control', 'thanx', 'j', 'possibl', 'ohio', 'joseph', 'assist', 'call', 'rubin', 'advanc', 'tri', 'part', 'mani', 'ask', 'joystick', 'free', 'project', 'augment', 'implement', 'game', 'button', 'arcad', 'daniel', 'anyon', 'tell', 'would', 'etc', 'also', 'found', 'dayton', 'could', 'part', 'complet']\n"
     ]
    }
   ],
   "source": [
    "print(test_before[0])"
   ]
  },
  {
   "cell_type": "code",
   "execution_count": 25,
   "metadata": {},
   "outputs": [
    {
     "name": "stdout",
     "output_type": "stream",
     "text": [
      "['mathew', 'mathewmantiscouk', 'subject', 'altath', 'faq', 'atheist', 'resourc', 'archivenam', 'altatheismarchivenam', 'lastmodifi', 'version', 'address', 'organ', 'usa', 'freedom', 'religion', 'foundat', 'darwin', 'fish', 'assort', 'avail', 'us', 'po', 'box', 'wi', 'telephon', 'evolut', 'design', 'sell', 'symbol', 'like', 'christian', 'stick', 'car', 'feet', 'word', 'written', 'insid', 'north', 'hollywood', 'ca', 'peopl', 'san', 'bay', 'area', 'get', 'lynn', 'gold', 'tri', 'mail', 'net', 'go', 'direct', 'price', 'per', 'american', 'press', 'aap', 'publish', 'various', 'book', 'critiqu', 'bibl', 'list', 'biblic', 'contradict', 'handbook', 'wp', 'ball', 'foot', 'pp', 'isbn', 'nd', 'edit', 'absurd', 'immor', 'contain', 'base', 'king', 'jame', 'austin', 'tx', 'road', 'fax', 'prometheus', 'includ', 'haught', 'holi', 'horror', 'see', 'east', 'street', 'buffalo', 'new', 'york', 'altern', 'may', 'newer', 'older', 'drive']\n"
     ]
    }
   ],
   "source": [
    "DD=list(D.keys())    #包含20类文档所有关键词的list\n",
    "print(DD[:100])"
   ]
  },
  {
   "cell_type": "code",
   "execution_count": 18,
   "metadata": {},
   "outputs": [],
   "source": [
    "#此处字典初始化很重要，防止下面计算概率时出现key error\n",
    "for k in vocab_specialword_prob:\n",
    "    for j in DD:\n",
    "        k[j]=0\n",
    "\n",
    "for key in keys_labels:\n",
    "    for j in DD:\n",
    "        if j not in vocab_deputy[key]:\n",
    "            vocab_deputy[key][j]=0"
   ]
  },
  {
   "cell_type": "markdown",
   "metadata": {},
   "source": [
    "下面计算每个词在每个class下出现的概率，假定每个词的出现都是独立的，那么一个样本在该class下的概率将是其所含各个词在该class下概率的乘积，这样的话其值必然会很低，因此此处我们引入对数函数log，将概率计算由相乘变为相加。"
   ]
  },
  {
   "cell_type": "code",
   "execution_count": 29,
   "metadata": {},
   "outputs": [
    {
     "name": "stdout",
     "output_type": "stream",
     "text": [
      "Wall time: 402 ms\n"
     ]
    }
   ],
   "source": [
    "%%time\n",
    "import math\n",
    "for j in DD:\n",
    "    for key in keys_labels:\n",
    "        vocab_specialword_prob[key][j]=math.log((vocab_deputy[key][j]+1)/(len_label[key]+2),2)  #计算每个词在每个class下出现的概率\n",
    "        \n"
   ]
  },
  {
   "cell_type": "code",
   "execution_count": 30,
   "metadata": {},
   "outputs": [
    {
     "data": {
      "text/plain": [
       "-15.779565475879126"
      ]
     },
     "execution_count": 30,
     "metadata": {},
     "output_type": "execute_result"
    }
   ],
   "source": [
    "vocab_specialword_prob[2][DD[5]]"
   ]
  },
  {
   "cell_type": "markdown",
   "metadata": {},
   "source": [
    "## 测试构建的模型"
   ]
  },
  {
   "cell_type": "markdown",
   "metadata": {},
   "source": [
    "观察该样本在哪个class下的概率最大，就判断样本属于哪个class。然后将每个样本的判断结果和它的真实所属class进行比较，计算出由随机2000个样本所组测试集来测试的贝叶斯分类器的准确率。"
   ]
  },
  {
   "cell_type": "code",
   "execution_count": 31,
   "metadata": {},
   "outputs": [],
   "source": [
    "predict=[]\n",
    "result=[]\n",
    "test=test_before[:2000]  #从随机样本集里取2000个样本\n",
    "X=[T[1:] for T in test]  \n",
    "Y=[T[0] for T in test]  #存放2000个样本的标签\n"
   ]
  },
  {
   "cell_type": "code",
   "execution_count": 32,
   "metadata": {},
   "outputs": [],
   "source": [
    "for x in X:\n",
    "    prob=np.zeros(20)\n",
    "    for key in keys_labels:\n",
    "        for item in x:\n",
    "            prob[key]+=vocab_specialword_prob[key][item]  #采用了log，固用加法计算\n",
    "    predict.append(np.argmax(prob))   #存储各个样本最大概率所属的class\n",
    "    "
   ]
  },
  {
   "cell_type": "code",
   "execution_count": 33,
   "metadata": {},
   "outputs": [],
   "source": [
    "for n in range(len(X)):\n",
    "    if predict[n]==Y[n]:\n",
    "        result.append(1)\n",
    "    else:\n",
    "        result.append(0)        "
   ]
  },
  {
   "cell_type": "code",
   "execution_count": 34,
   "metadata": {},
   "outputs": [
    {
     "name": "stdout",
     "output_type": "stream",
     "text": [
      "accuracy== 96.5 %\n"
     ]
    }
   ],
   "source": [
    "print('accuracy==',sum(result)/2000*100,'%')"
   ]
  },
  {
   "cell_type": "code",
   "execution_count": null,
   "metadata": {},
   "outputs": [],
   "source": []
  }
 ],
 "metadata": {
  "kernelspec": {
   "display_name": "Python 3",
   "language": "python",
   "name": "python3"
  },
  "language_info": {
   "codemirror_mode": {
    "name": "ipython",
    "version": 3
   },
   "file_extension": ".py",
   "mimetype": "text/x-python",
   "name": "python",
   "nbconvert_exporter": "python",
   "pygments_lexer": "ipython3",
   "version": "3.6.5"
  }
 },
 "nbformat": 4,
 "nbformat_minor": 2
}
